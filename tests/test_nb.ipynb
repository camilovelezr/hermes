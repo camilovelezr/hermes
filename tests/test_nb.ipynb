{
 "cells": [
  {
   "cell_type": "code",
   "execution_count": 1,
   "metadata": {},
   "outputs": [
    {
     "name": "stderr",
     "output_type": "stream",
     "text": [
      "2023-12-01 11:55:11.345417: I tensorflow/tsl/cuda/cudart_stub.cc:28] Could not find cuda drivers on your machine, GPU will not be used.\n",
      "2023-12-01 11:55:11.369938: E tensorflow/compiler/xla/stream_executor/cuda/cuda_dnn.cc:9342] Unable to register cuDNN factory: Attempting to register factory for plugin cuDNN when one has already been registered\n",
      "2023-12-01 11:55:11.369959: E tensorflow/compiler/xla/stream_executor/cuda/cuda_fft.cc:609] Unable to register cuFFT factory: Attempting to register factory for plugin cuFFT when one has already been registered\n",
      "2023-12-01 11:55:11.369975: E tensorflow/compiler/xla/stream_executor/cuda/cuda_blas.cc:1518] Unable to register cuBLAS factory: Attempting to register factory for plugin cuBLAS when one has already been registered\n",
      "2023-12-01 11:55:11.374361: I tensorflow/tsl/cuda/cudart_stub.cc:28] Could not find cuda drivers on your machine, GPU will not be used.\n",
      "2023-12-01 11:55:11.374973: I tensorflow/core/platform/cpu_feature_guard.cc:182] This TensorFlow binary is optimized to use available CPU instructions in performance-critical operations.\n",
      "To enable the following instructions: AVX2 FMA, in other operations, rebuild TensorFlow with the appropriate compiler flags.\n",
      "2023-12-01 11:55:11.992572: W tensorflow/compiler/tf2tensorrt/utils/py_utils.cc:38] TF-TRT Warning: Could not find TensorRT\n",
      "WARNING:hermes:No pyFai\n"
     ]
    },
    {
     "name": "stdout",
     "output_type": "stream",
     "text": [
      "Note: to be able to use all crisp methods, you need to install some additional packages:  {'infomap', 'wurlitzer', 'bayanpy', 'graph_tool'}\n",
      "Note: to be able to use all crisp methods, you need to install some additional packages:  {'ASLPAw', 'pyclustering'}\n",
      "Note: to be able to use all crisp methods, you need to install some additional packages:  {'infomap', 'wurlitzer'}\n"
     ]
    }
   ],
   "source": [
    "# type: ignore\n",
    "from dataclasses import dataclass\n",
    "from pathlib import Path\n",
    "\n",
    "import h5py\n",
    "import networkx as nx\n",
    "import numpy as np\n",
    "import pandas as pd\n",
    "import tensorflow as tf\n",
    "import tensorflow_probability as tfp\n",
    "import pytest\n",
    "import os\n",
    "import gpflow\n",
    "\n",
    "import hermes\n",
    "\n",
    "np.random.seed(42)\n",
    "tf.random.set_seed(42)\n",
    "\n",
    "SIM_LOAD_DIR = Path(\"\").absolute().joinpath(\"resources\")\n",
    "WAFER_COORDS_FILE = \"XY_Coordinates_177.txt\"\n",
    "WAFER_COMPOSITION_FILE = \"CombiView_Format_GeSbTe_Composition.txt\"\n",
    "WAFER_XRD_FILE = (\n",
    "    \"GeSbTe_XRD_MetaStable_Background subtracted and with normalization.txt\"\n",
    ")\n",
    "\n",
    "instrument = hermes.instruments.CHESSQM2Beamline(\n",
    "    simulation=True,\n",
    "    wafer_directory=SIM_LOAD_DIR,\n",
    "    wafer_coords_file=WAFER_COORDS_FILE,\n",
    "    wafer_composition_file=WAFER_COMPOSITION_FILE,\n",
    "    wafer_xrd_file=WAFER_XRD_FILE,\n",
    "    sample_name=\"This is a great name\",\n",
    ")"
   ]
  },
  {
   "cell_type": "code",
   "execution_count": 2,
   "metadata": {},
   "outputs": [],
   "source": [
    "@dataclass\n",
    "class RandomStart:\n",
    "    domain: np.ndarray\n",
    "    start_measurements: int\n",
    "\n",
    "    def initialize(self):\n",
    "        indexes = np.arange(0, self.domain.shape[0])\n",
    "        permute = np.random.permutation(indexes)\n",
    "\n",
    "        next_indexes = permute[0 : self.start_measurements]\n",
    "\n",
    "        return next_indexes"
   ]
  },
  {
   "cell_type": "code",
   "execution_count": 3,
   "metadata": {},
   "outputs": [],
   "source": [
    "\n",
    "domain_2d = instrument.composition_domain_2d\n",
    "domain_3d = instrument.composition_domain[1]\n",
    "start_measurements = 11\n",
    "initialization_method = RandomStart(instrument.composition_domain_2d, start_measurements)\n",
    "next_indexes = initialization_method.initialize()\n",
    "next_locations = domain_2d[next_indexes]\n",
    "domain = instrument.xy_locations.to_numpy()\n",
    "# Get the indexes in the domain:\n",
    "indexes = np.arange(0, domain.shape[0])\n",
    "\n",
    "# Initialize containers for locations and measurements:\n",
    "locations = np.array([]).reshape(-1, domain_2d.shape[1])\n",
    "measurements = np.array([]).reshape(-1, instrument.sim_two_theta_space.shape[0])\n",
    "next_measurements = instrument.move_and_measure(domain_3d[next_indexes])\n",
    "\n",
    "locations = np.append(locations, next_locations, axis=0)\n",
    "measurements = np.append(measurements, next_measurements, axis=0)\n",
    "\n",
    "cluster_method = hermes.clustering.RBPots(\n",
    "    measurements=measurements,\n",
    "    measurements_distance_type=hermes.distance.CosineDistance(),\n",
    "    measurements_similarity_type=hermes.similarity.SquaredExponential(lengthscale=0.1),\n",
    "    locations=locations,\n",
    "    resolution=0.2,\n",
    ")\n",
    "# cluster_method.form_graph()\n",
    "cluster_method.cluster()\n",
    "cluster_method.get_local_membership_prob()\n",
    "\n",
    "# TODO use qm2 example\n",
    "\n",
    "classification_method = hermes.classification.HeteroscedasticGPC(\n",
    "    locations=locations,\n",
    "    labels=cluster_method.labels,\n",
    "    domain=domain,\n",
    "    probabilities=cluster_method.probabilities,\n",
    "    measured_indexes=indexes,\n",
    "    indexes=indexes,\n",
    ")"
   ]
  },
  {
   "cell_type": "code",
   "execution_count": 4,
   "metadata": {},
   "outputs": [
    {
     "data": {
      "text/html": [
       "&lt;gpflow.models.vgp.VGP object at 0x7f9de42eca90&gt;\n",
       "<table>\n",
       "<thead>\n",
       "<tr><th>name                          </th><th>class    </th><th>transform     </th><th>prior  </th><th>trainable  </th><th>shape      </th><th>dtype  </th><th>value           </th></tr>\n",
       "</thead>\n",
       "<tbody>\n",
       "<tr><td>VGP.kernel.variance           </td><td>Parameter</td><td>Softplus      </td><td>       </td><td>True       </td><td>()         </td><td>float64</td><td>1.0             </td></tr>\n",
       "<tr><td>VGP.kernel.lengthscales       </td><td>Parameter</td><td>Softplus      </td><td>       </td><td>True       </td><td>()         </td><td>float64</td><td>1.0             </td></tr>\n",
       "<tr><td>VGP.likelihood.invlink.epsilon</td><td>Parameter</td><td>Sigmoid       </td><td>Beta   </td><td>False      </td><td>()         </td><td>float64</td><td>0.001           </td></tr>\n",
       "<tr><td>VGP.num_data                  </td><td>Parameter</td><td>Identity      </td><td>       </td><td>False      </td><td>()         </td><td>int32  </td><td>11              </td></tr>\n",
       "<tr><td>VGP.q_mu                      </td><td>Parameter</td><td>Identity      </td><td>       </td><td>True       </td><td>(11, 3)    </td><td>float64</td><td>[[0., 0., 0.... </td></tr>\n",
       "<tr><td>VGP.q_sqrt                    </td><td>Parameter</td><td>FillTriangular</td><td>       </td><td>True       </td><td>(3, 11, 11)</td><td>float64</td><td>[[[1., 0., 0....</td></tr>\n",
       "</tbody>\n",
       "</table>"
      ],
      "text/plain": [
       "<gpflow.models.vgp.VGP object at 0x7f9de42eca90>\n",
       "╒════════════════════════════════╤═══════════╤════════════════╤═════════╤═════════════╤═════════════╤═════════╤══════════════════╕\n",
       "│ name                           │ class     │ transform      │ prior   │ trainable   │ shape       │ dtype   │ value            │\n",
       "╞════════════════════════════════╪═══════════╪════════════════╪═════════╪═════════════╪═════════════╪═════════╪══════════════════╡\n",
       "│ VGP.kernel.variance            │ Parameter │ Softplus       │         │ True        │ ()          │ float64 │ 1.0              │\n",
       "├────────────────────────────────┼───────────┼────────────────┼─────────┼─────────────┼─────────────┼─────────┼──────────────────┤\n",
       "│ VGP.kernel.lengthscales        │ Parameter │ Softplus       │         │ True        │ ()          │ float64 │ 1.0              │\n",
       "├────────────────────────────────┼───────────┼────────────────┼─────────┼─────────────┼─────────────┼─────────┼──────────────────┤\n",
       "│ VGP.likelihood.invlink.epsilon │ Parameter │ Sigmoid        │ Beta    │ False       │ ()          │ float64 │ 0.001            │\n",
       "├────────────────────────────────┼───────────┼────────────────┼─────────┼─────────────┼─────────────┼─────────┼──────────────────┤\n",
       "│ VGP.num_data                   │ Parameter │ Identity       │         │ False       │ ()          │ int32   │ 11               │\n",
       "├────────────────────────────────┼───────────┼────────────────┼─────────┼─────────────┼─────────────┼─────────┼──────────────────┤\n",
       "│ VGP.q_mu                       │ Parameter │ Identity       │         │ True        │ (11, 3)     │ float64 │ [[0., 0., 0....  │\n",
       "├────────────────────────────────┼───────────┼────────────────┼─────────┼─────────────┼─────────────┼─────────┼──────────────────┤\n",
       "│ VGP.q_sqrt                     │ Parameter │ FillTriangular │         │ True        │ (3, 11, 11) │ float64 │ [[[1., 0., 0.... │\n",
       "╘════════════════════════════════╧═══════════╧════════════════╧═════════╧═════════════╧═════════════╧═════════╧══════════════════╛"
      ]
     },
     "execution_count": 4,
     "metadata": {},
     "output_type": "execute_result"
    }
   ],
   "source": [
    "classification_method.model"
   ]
  },
  {
   "cell_type": "code",
   "execution_count": 5,
   "metadata": {},
   "outputs": [],
   "source": [
    "classification_method.train()"
   ]
  },
  {
   "cell_type": "code",
   "execution_count": 6,
   "metadata": {},
   "outputs": [
    {
     "data": {
      "text/html": [
       "&lt;gpflow.models.vgp.VGP object at 0x7f52be2da7a0&gt;\n",
       "<table>\n",
       "<thead>\n",
       "<tr><th>name                          </th><th>class    </th><th>transform     </th><th>prior  </th><th>trainable  </th><th>shape      </th><th>dtype  </th><th>value                                   </th></tr>\n",
       "</thead>\n",
       "<tbody>\n",
       "<tr><td>VGP.kernel.variance           </td><td>Parameter</td><td>Softplus      </td><td>       </td><td>True       </td><td>()         </td><td>float64</td><td>0.0                                     </td></tr>\n",
       "<tr><td>VGP.kernel.lengthscales       </td><td>Parameter</td><td>Softplus      </td><td>       </td><td>True       </td><td>()         </td><td>float64</td><td>0.17908                                 </td></tr>\n",
       "<tr><td>VGP.likelihood.invlink.epsilon</td><td>Parameter</td><td>Sigmoid       </td><td>Beta   </td><td>False      </td><td>()         </td><td>float64</td><td>0.001                                   </td></tr>\n",
       "<tr><td>VGP.num_data                  </td><td>Parameter</td><td>Identity      </td><td>       </td><td>False      </td><td>()         </td><td>int32  </td><td>11                                      </td></tr>\n",
       "<tr><td>VGP.q_mu                      </td><td>Parameter</td><td>Identity      </td><td>       </td><td>True       </td><td>(11, 3)    </td><td>float64</td><td>[[-0.37781, -0.22536, 0.60355...        </td></tr>\n",
       "<tr><td>VGP.q_sqrt                    </td><td>Parameter</td><td>FillTriangular</td><td>       </td><td>True       </td><td>(3, 11, 11)</td><td>float64</td><td>[[[4.0220e-01, 0.0000e+00, 0.0000e+00...</td></tr>\n",
       "</tbody>\n",
       "</table>"
      ],
      "text/plain": [
       "<gpflow.models.vgp.VGP object at 0x7f52be2da7a0>\n",
       "╒════════════════════════════════╤═══════════╤════════════════╤═════════╤═════════════╤═════════════╤═════════╤══════════════════════════════════════════╕\n",
       "│ name                           │ class     │ transform      │ prior   │ trainable   │ shape       │ dtype   │ value                                    │\n",
       "╞════════════════════════════════╪═══════════╪════════════════╪═════════╪═════════════╪═════════════╪═════════╪══════════════════════════════════════════╡\n",
       "│ VGP.kernel.variance            │ Parameter │ Softplus       │         │ True        │ ()          │ float64 │ 0.0                                      │\n",
       "├────────────────────────────────┼───────────┼────────────────┼─────────┼─────────────┼─────────────┼─────────┼──────────────────────────────────────────┤\n",
       "│ VGP.kernel.lengthscales        │ Parameter │ Softplus       │         │ True        │ ()          │ float64 │ 0.17908                                  │\n",
       "├────────────────────────────────┼───────────┼────────────────┼─────────┼─────────────┼─────────────┼─────────┼──────────────────────────────────────────┤\n",
       "│ VGP.likelihood.invlink.epsilon │ Parameter │ Sigmoid        │ Beta    │ False       │ ()          │ float64 │ 0.001                                    │\n",
       "├────────────────────────────────┼───────────┼────────────────┼─────────┼─────────────┼─────────────┼─────────┼──────────────────────────────────────────┤\n",
       "│ VGP.num_data                   │ Parameter │ Identity       │         │ False       │ ()          │ int32   │ 11                                       │\n",
       "├────────────────────────────────┼───────────┼────────────────┼─────────┼─────────────┼─────────────┼─────────┼──────────────────────────────────────────┤\n",
       "│ VGP.q_mu                       │ Parameter │ Identity       │         │ True        │ (11, 3)     │ float64 │ [[-0.37781, -0.22536, 0.60355...         │\n",
       "├────────────────────────────────┼───────────┼────────────────┼─────────┼─────────────┼─────────────┼─────────┼──────────────────────────────────────────┤\n",
       "│ VGP.q_sqrt                     │ Parameter │ FillTriangular │         │ True        │ (3, 11, 11) │ float64 │ [[[4.0220e-01, 0.0000e+00, 0.0000e+00... │\n",
       "╘════════════════════════════════╧═══════════╧════════════════╧═════════╧═════════════╧═════════════╧═════════╧══════════════════════════════════════════╛"
      ]
     },
     "execution_count": 6,
     "metadata": {},
     "output_type": "execute_result"
    }
   ],
   "source": [
    "classification_method.model"
   ]
  },
  {
   "cell_type": "code",
   "execution_count": 7,
   "metadata": {},
   "outputs": [
    {
     "data": {
      "text/html": [
       "&lt;hermes.classification.heteroscedastic_gpc.HeteroscedasticMultiClass object at 0x7f36893766e0&gt;\n",
       "<table>\n",
       "<thead>\n",
       "<tr><th>name                                     </th><th>class    </th><th>transform  </th><th>prior  </th><th>trainable  </th><th>shape  </th><th>dtype  </th><th style=\"text-align: right;\">  value</th></tr>\n",
       "</thead>\n",
       "<tbody>\n",
       "<tr><td>HeteroscedasticMultiClass.invlink.epsilon</td><td>Parameter</td><td>Sigmoid    </td><td>Beta   </td><td>False      </td><td>()     </td><td>float64</td><td style=\"text-align: right;\">  0.001</td></tr>\n",
       "</tbody>\n",
       "</table>"
      ],
      "text/plain": [
       "<hermes.classification.heteroscedastic_gpc.HeteroscedasticMultiClass object at 0x7f36893766e0>\n",
       "╒═══════════════════════════════════════════╤═══════════╤═════════════╤═════════╤═════════════╤═════════╤═════════╤═════════╕\n",
       "│ name                                      │ class     │ transform   │ prior   │ trainable   │ shape   │ dtype   │   value │\n",
       "╞═══════════════════════════════════════════╪═══════════╪═════════════╪═════════╪═════════════╪═════════╪═════════╪═════════╡\n",
       "│ HeteroscedasticMultiClass.invlink.epsilon │ Parameter │ Sigmoid     │ Beta    │ False       │ ()      │ float64 │   0.001 │\n",
       "╘═══════════════════════════════════════════╧═══════════╧═════════════╧═════════╧═════════════╧═════════╧═════════╧═════════╛"
      ]
     },
     "execution_count": 7,
     "metadata": {},
     "output_type": "execute_result"
    }
   ],
   "source": [
    "classification_method._likelihood"
   ]
  },
  {
   "cell_type": "code",
   "execution_count": 8,
   "metadata": {},
   "outputs": [
    {
     "data": {
      "text/html": [
       "&lt;gpflow.kernels.stationaries.SquaredExponential object at 0x7f36e20fd4b0&gt;\n",
       "<table>\n",
       "<thead>\n",
       "<tr><th>name                           </th><th>class    </th><th>transform  </th><th>prior  </th><th>trainable  </th><th>shape  </th><th>dtype  </th><th style=\"text-align: right;\">  value</th></tr>\n",
       "</thead>\n",
       "<tbody>\n",
       "<tr><td>SquaredExponential.variance    </td><td>Parameter</td><td>Softplus   </td><td>       </td><td>True       </td><td>()     </td><td>float64</td><td style=\"text-align: right;\">0      </td></tr>\n",
       "<tr><td>SquaredExponential.lengthscales</td><td>Parameter</td><td>Softplus   </td><td>       </td><td>True       </td><td>()     </td><td>float64</td><td style=\"text-align: right;\">0.17908</td></tr>\n",
       "</tbody>\n",
       "</table>"
      ],
      "text/plain": [
       "<gpflow.kernels.stationaries.SquaredExponential object at 0x7f36e20fd4b0>\n",
       "╒═════════════════════════════════╤═══════════╤═════════════╤═════════╤═════════════╤═════════╤═════════╤═════════╕\n",
       "│ name                            │ class     │ transform   │ prior   │ trainable   │ shape   │ dtype   │   value │\n",
       "╞═════════════════════════════════╪═══════════╪═════════════╪═════════╪═════════════╪═════════╪═════════╪═════════╡\n",
       "│ SquaredExponential.variance     │ Parameter │ Softplus    │         │ True        │ ()      │ float64 │ 0       │\n",
       "├─────────────────────────────────┼───────────┼─────────────┼─────────┼─────────────┼─────────┼─────────┼─────────┤\n",
       "│ SquaredExponential.lengthscales │ Parameter │ Softplus    │         │ True        │ ()      │ float64 │ 0.17908 │\n",
       "╘═════════════════════════════════╧═══════════╧═════════════╧═════════╧═════════════╧═════════╧═════════╧═════════╛"
      ]
     },
     "execution_count": 8,
     "metadata": {},
     "output_type": "execute_result"
    }
   ],
   "source": [
    "m = classification_method.model\n",
    "m.kernel"
   ]
  },
  {
   "cell_type": "code",
   "execution_count": 9,
   "metadata": {},
   "outputs": [
    {
     "data": {
      "text/html": [
       "&lt;gpflow.models.vgp.VGP object at 0x7f3780f965c0&gt;\n",
       "<table>\n",
       "<thead>\n",
       "<tr><th>name                          </th><th>class    </th><th>transform     </th><th>prior  </th><th>trainable  </th><th>shape      </th><th>dtype  </th><th>value                                   </th></tr>\n",
       "</thead>\n",
       "<tbody>\n",
       "<tr><td>VGP.kernel.variance           </td><td>Parameter</td><td>Softplus      </td><td>       </td><td>True       </td><td>()         </td><td>float64</td><td>0.0                                     </td></tr>\n",
       "<tr><td>VGP.kernel.lengthscales       </td><td>Parameter</td><td>Softplus      </td><td>       </td><td>True       </td><td>()         </td><td>float64</td><td>0.17908                                 </td></tr>\n",
       "<tr><td>VGP.likelihood.invlink.epsilon</td><td>Parameter</td><td>Sigmoid       </td><td>Beta   </td><td>False      </td><td>()         </td><td>float64</td><td>0.001                                   </td></tr>\n",
       "<tr><td>VGP.num_data                  </td><td>Parameter</td><td>Identity      </td><td>       </td><td>False      </td><td>()         </td><td>int32  </td><td>11                                      </td></tr>\n",
       "<tr><td>VGP.q_mu                      </td><td>Parameter</td><td>Identity      </td><td>       </td><td>True       </td><td>(11, 3)    </td><td>float64</td><td>[[-0.37781, -0.22536, 0.60355...        </td></tr>\n",
       "<tr><td>VGP.q_sqrt                    </td><td>Parameter</td><td>FillTriangular</td><td>       </td><td>True       </td><td>(3, 11, 11)</td><td>float64</td><td>[[[4.0220e-01, 0.0000e+00, 0.0000e+00...</td></tr>\n",
       "</tbody>\n",
       "</table>"
      ],
      "text/plain": [
       "<gpflow.models.vgp.VGP object at 0x7f3780f965c0>\n",
       "╒════════════════════════════════╤═══════════╤════════════════╤═════════╤═════════════╤═════════════╤═════════╤══════════════════════════════════════════╕\n",
       "│ name                           │ class     │ transform      │ prior   │ trainable   │ shape       │ dtype   │ value                                    │\n",
       "╞════════════════════════════════╪═══════════╪════════════════╪═════════╪═════════════╪═════════════╪═════════╪══════════════════════════════════════════╡\n",
       "│ VGP.kernel.variance            │ Parameter │ Softplus       │         │ True        │ ()          │ float64 │ 0.0                                      │\n",
       "├────────────────────────────────┼───────────┼────────────────┼─────────┼─────────────┼─────────────┼─────────┼──────────────────────────────────────────┤\n",
       "│ VGP.kernel.lengthscales        │ Parameter │ Softplus       │         │ True        │ ()          │ float64 │ 0.17908                                  │\n",
       "├────────────────────────────────┼───────────┼────────────────┼─────────┼─────────────┼─────────────┼─────────┼──────────────────────────────────────────┤\n",
       "│ VGP.likelihood.invlink.epsilon │ Parameter │ Sigmoid        │ Beta    │ False       │ ()          │ float64 │ 0.001                                    │\n",
       "├────────────────────────────────┼───────────┼────────────────┼─────────┼─────────────┼─────────────┼─────────┼──────────────────────────────────────────┤\n",
       "│ VGP.num_data                   │ Parameter │ Identity       │         │ False       │ ()          │ int32   │ 11                                       │\n",
       "├────────────────────────────────┼───────────┼────────────────┼─────────┼─────────────┼─────────────┼─────────┼──────────────────────────────────────────┤\n",
       "│ VGP.q_mu                       │ Parameter │ Identity       │         │ True        │ (11, 3)     │ float64 │ [[-0.37781, -0.22536, 0.60355...         │\n",
       "├────────────────────────────────┼───────────┼────────────────┼─────────┼─────────────┼─────────────┼─────────┼──────────────────────────────────────────┤\n",
       "│ VGP.q_sqrt                     │ Parameter │ FillTriangular │         │ True        │ (3, 11, 11) │ float64 │ [[[4.0220e-01, 0.0000e+00, 0.0000e+00... │\n",
       "╘════════════════════════════════╧═══════════╧════════════════╧═════════╧═════════════╧═════════════╧═════════╧══════════════════════════════════════════╛"
      ]
     },
     "execution_count": 9,
     "metadata": {},
     "output_type": "execute_result"
    }
   ],
   "source": [
    "classification_method.model"
   ]
  },
  {
   "cell_type": "code",
   "execution_count": null,
   "metadata": {},
   "outputs": [],
   "source": [
    "classification_method.save_trained(\"trained1.hdf5\")"
   ]
  },
  {
   "cell_type": "code",
   "execution_count": 5,
   "metadata": {},
   "outputs": [],
   "source": [
    "HeteroscedasticGPC = hermes.classification.HeteroscedasticGPC"
   ]
  },
  {
   "cell_type": "code",
   "execution_count": 6,
   "metadata": {},
   "outputs": [
    {
     "ename": "OSError",
     "evalue": "Unable to open file (truncated file: eof = 96, sblock->base_addr = 0, stored_eof = 2048)",
     "output_type": "error",
     "traceback": [
      "\u001b[0;31m---------------------------------------------------------------------------\u001b[0m",
      "\u001b[0;31mOSError\u001b[0m                                   Traceback (most recent call last)",
      "Cell \u001b[0;32mIn[6], line 1\u001b[0m\n\u001b[0;32m----> 1\u001b[0m \u001b[43mHeteroscedasticGPC\u001b[49m\u001b[38;5;241;43m.\u001b[39;49m\u001b[43mload\u001b[49m\u001b[43m(\u001b[49m\u001b[38;5;124;43m\"\u001b[39;49m\u001b[38;5;124;43mmytestfile.hdf5\u001b[39;49m\u001b[38;5;124;43m\"\u001b[39;49m\u001b[43m)\u001b[49m\n",
      "File \u001b[0;32m~/hermes/src/hermes/classification/_classification.py:445\u001b[0m, in \u001b[0;36mHeteroscedasticGPC.load\u001b[0;34m(cls, path)\u001b[0m\n\u001b[1;32m    442\u001b[0m \u001b[38;5;129m@classmethod\u001b[39m\n\u001b[1;32m    443\u001b[0m \u001b[38;5;28;01mdef\u001b[39;00m \u001b[38;5;21mload\u001b[39m(\u001b[38;5;28mcls\u001b[39m, path: Union[\u001b[38;5;28mstr\u001b[39m, Path]) \u001b[38;5;241m-\u001b[39m\u001b[38;5;241m>\u001b[39m gpflow\u001b[38;5;241m.\u001b[39mmodels\u001b[38;5;241m.\u001b[39mVGP:\n\u001b[1;32m    444\u001b[0m \u001b[38;5;250m    \u001b[39m\u001b[38;5;124;03m\"\"\"Load trained model from a file.\"\"\"\u001b[39;00m\n\u001b[0;32m--> 445\u001b[0m     \u001b[38;5;28;01mwith\u001b[39;00m \u001b[43mh5py\u001b[49m\u001b[38;5;241;43m.\u001b[39;49m\u001b[43mFile\u001b[49m\u001b[43m(\u001b[49m\u001b[38;5;28;43mstr\u001b[39;49m\u001b[43m(\u001b[49m\u001b[43mpath\u001b[49m\u001b[43m)\u001b[49m\u001b[43m,\u001b[49m\u001b[43m \u001b[49m\u001b[38;5;124;43m\"\u001b[39;49m\u001b[38;5;124;43mr\u001b[39;49m\u001b[38;5;124;43m\"\u001b[39;49m\u001b[43m)\u001b[49m \u001b[38;5;28;01mas\u001b[39;00m file:\n\u001b[1;32m    446\u001b[0m         kernel_name \u001b[38;5;241m=\u001b[39m file[\u001b[38;5;124m\"\u001b[39m\u001b[38;5;124mkernel/name\u001b[39m\u001b[38;5;124m\"\u001b[39m][()]\u001b[38;5;241m.\u001b[39mdecode()\n\u001b[1;32m    447\u001b[0m         kernel_variance \u001b[38;5;241m=\u001b[39m file[\u001b[38;5;124m\"\u001b[39m\u001b[38;5;124mkernel/variance\u001b[39m\u001b[38;5;124m\"\u001b[39m][()]\n",
      "File \u001b[0;32m~/anaconda3/envs/hermes/lib/python3.10/site-packages/h5py/_hl/files.py:567\u001b[0m, in \u001b[0;36mFile.__init__\u001b[0;34m(self, name, mode, driver, libver, userblock_size, swmr, rdcc_nslots, rdcc_nbytes, rdcc_w0, track_order, fs_strategy, fs_persist, fs_threshold, fs_page_size, page_buf_size, min_meta_keep, min_raw_keep, locking, alignment_threshold, alignment_interval, meta_block_size, **kwds)\u001b[0m\n\u001b[1;32m    558\u001b[0m     fapl \u001b[38;5;241m=\u001b[39m make_fapl(driver, libver, rdcc_nslots, rdcc_nbytes, rdcc_w0,\n\u001b[1;32m    559\u001b[0m                      locking, page_buf_size, min_meta_keep, min_raw_keep,\n\u001b[1;32m    560\u001b[0m                      alignment_threshold\u001b[38;5;241m=\u001b[39malignment_threshold,\n\u001b[1;32m    561\u001b[0m                      alignment_interval\u001b[38;5;241m=\u001b[39malignment_interval,\n\u001b[1;32m    562\u001b[0m                      meta_block_size\u001b[38;5;241m=\u001b[39mmeta_block_size,\n\u001b[1;32m    563\u001b[0m                      \u001b[38;5;241m*\u001b[39m\u001b[38;5;241m*\u001b[39mkwds)\n\u001b[1;32m    564\u001b[0m     fcpl \u001b[38;5;241m=\u001b[39m make_fcpl(track_order\u001b[38;5;241m=\u001b[39mtrack_order, fs_strategy\u001b[38;5;241m=\u001b[39mfs_strategy,\n\u001b[1;32m    565\u001b[0m                      fs_persist\u001b[38;5;241m=\u001b[39mfs_persist, fs_threshold\u001b[38;5;241m=\u001b[39mfs_threshold,\n\u001b[1;32m    566\u001b[0m                      fs_page_size\u001b[38;5;241m=\u001b[39mfs_page_size)\n\u001b[0;32m--> 567\u001b[0m     fid \u001b[38;5;241m=\u001b[39m \u001b[43mmake_fid\u001b[49m\u001b[43m(\u001b[49m\u001b[43mname\u001b[49m\u001b[43m,\u001b[49m\u001b[43m \u001b[49m\u001b[43mmode\u001b[49m\u001b[43m,\u001b[49m\u001b[43m \u001b[49m\u001b[43muserblock_size\u001b[49m\u001b[43m,\u001b[49m\u001b[43m \u001b[49m\u001b[43mfapl\u001b[49m\u001b[43m,\u001b[49m\u001b[43m \u001b[49m\u001b[43mfcpl\u001b[49m\u001b[43m,\u001b[49m\u001b[43m \u001b[49m\u001b[43mswmr\u001b[49m\u001b[38;5;241;43m=\u001b[39;49m\u001b[43mswmr\u001b[49m\u001b[43m)\u001b[49m\n\u001b[1;32m    569\u001b[0m \u001b[38;5;28;01mif\u001b[39;00m \u001b[38;5;28misinstance\u001b[39m(libver, \u001b[38;5;28mtuple\u001b[39m):\n\u001b[1;32m    570\u001b[0m     \u001b[38;5;28mself\u001b[39m\u001b[38;5;241m.\u001b[39m_libver \u001b[38;5;241m=\u001b[39m libver\n",
      "File \u001b[0;32m~/anaconda3/envs/hermes/lib/python3.10/site-packages/h5py/_hl/files.py:231\u001b[0m, in \u001b[0;36mmake_fid\u001b[0;34m(name, mode, userblock_size, fapl, fcpl, swmr)\u001b[0m\n\u001b[1;32m    229\u001b[0m     \u001b[38;5;28;01mif\u001b[39;00m swmr \u001b[38;5;129;01mand\u001b[39;00m swmr_support:\n\u001b[1;32m    230\u001b[0m         flags \u001b[38;5;241m|\u001b[39m\u001b[38;5;241m=\u001b[39m h5f\u001b[38;5;241m.\u001b[39mACC_SWMR_READ\n\u001b[0;32m--> 231\u001b[0m     fid \u001b[38;5;241m=\u001b[39m \u001b[43mh5f\u001b[49m\u001b[38;5;241;43m.\u001b[39;49m\u001b[43mopen\u001b[49m\u001b[43m(\u001b[49m\u001b[43mname\u001b[49m\u001b[43m,\u001b[49m\u001b[43m \u001b[49m\u001b[43mflags\u001b[49m\u001b[43m,\u001b[49m\u001b[43m \u001b[49m\u001b[43mfapl\u001b[49m\u001b[38;5;241;43m=\u001b[39;49m\u001b[43mfapl\u001b[49m\u001b[43m)\u001b[49m\n\u001b[1;32m    232\u001b[0m \u001b[38;5;28;01melif\u001b[39;00m mode \u001b[38;5;241m==\u001b[39m \u001b[38;5;124m'\u001b[39m\u001b[38;5;124mr+\u001b[39m\u001b[38;5;124m'\u001b[39m:\n\u001b[1;32m    233\u001b[0m     fid \u001b[38;5;241m=\u001b[39m h5f\u001b[38;5;241m.\u001b[39mopen(name, h5f\u001b[38;5;241m.\u001b[39mACC_RDWR, fapl\u001b[38;5;241m=\u001b[39mfapl)\n",
      "File \u001b[0;32mh5py/_objects.pyx:54\u001b[0m, in \u001b[0;36mh5py._objects.with_phil.wrapper\u001b[0;34m()\u001b[0m\n",
      "File \u001b[0;32mh5py/_objects.pyx:55\u001b[0m, in \u001b[0;36mh5py._objects.with_phil.wrapper\u001b[0;34m()\u001b[0m\n",
      "File \u001b[0;32mh5py/h5f.pyx:106\u001b[0m, in \u001b[0;36mh5py.h5f.open\u001b[0;34m()\u001b[0m\n",
      "\u001b[0;31mOSError\u001b[0m: Unable to open file (truncated file: eof = 96, sblock->base_addr = 0, stored_eof = 2048)"
     ]
    }
   ],
   "source": [
    "HeteroscedasticGPC.load(\"mytestfile.hdf5\")"
   ]
  },
  {
   "cell_type": "code",
   "execution_count": 45,
   "metadata": {},
   "outputs": [
    {
     "data": {
      "text/html": [
       "&lt;hermes.classification.heteroscedastic_gpc.HeteroscedasticMultiClass object at 0x7f04bc3f4400&gt;\n",
       "<table>\n",
       "<thead>\n",
       "<tr><th>name                                     </th><th>class    </th><th>transform  </th><th>prior  </th><th>trainable  </th><th>shape  </th><th>dtype  </th><th style=\"text-align: right;\">  value</th></tr>\n",
       "</thead>\n",
       "<tbody>\n",
       "<tr><td>HeteroscedasticMultiClass.invlink.epsilon</td><td>Parameter</td><td>Sigmoid    </td><td>Beta   </td><td>False      </td><td>()     </td><td>float64</td><td style=\"text-align: right;\">  0.001</td></tr>\n",
       "</tbody>\n",
       "</table>"
      ],
      "text/plain": [
       "<hermes.classification.heteroscedastic_gpc.HeteroscedasticMultiClass object at 0x7f04bc3f4400>\n",
       "╒═══════════════════════════════════════════╤═══════════╤═════════════╤═════════╤═════════════╤═════════╤═════════╤═════════╕\n",
       "│ name                                      │ class     │ transform   │ prior   │ trainable   │ shape   │ dtype   │   value │\n",
       "╞═══════════════════════════════════════════╪═══════════╪═════════════╪═════════╪═════════════╪═════════╪═════════╪═════════╡\n",
       "│ HeteroscedasticMultiClass.invlink.epsilon │ Parameter │ Sigmoid     │ Beta    │ False       │ ()      │ float64 │   0.001 │\n",
       "╘═══════════════════════════════════════════╧═══════════╧═════════════╧═════════╧═════════════╧═════════╧═════════╧═════════╛"
      ]
     },
     "execution_count": 45,
     "metadata": {},
     "output_type": "execute_result"
    }
   ],
   "source": [
    "classification_method._likelihood"
   ]
  },
  {
   "cell_type": "code",
   "execution_count": 43,
   "metadata": {},
   "outputs": [],
   "source": [
    "new_model = hermes.classification.HeteroscedasticGPC(\n",
    "    locations=locations,\n",
    "    labels=cluster_method.labels,\n",
    "    domain=domain,\n",
    "    probabilities=cluster_method.lengthscales,\n",
    "    measured_indexes=indexes,\n",
    "    indexes=indexes,\n",
    ")\n"
   ]
  },
  {
   "cell_type": "code",
   "execution_count": 44,
   "metadata": {},
   "outputs": [
    {
     "data": {
      "text/html": [
       "&lt;gpflow.kernels.stationaries.SquaredExponential object at 0x7fb75bb2b130&gt;\n",
       "<table>\n",
       "<thead>\n",
       "<tr><th>name                           </th><th>class    </th><th>transform  </th><th>prior  </th><th>trainable  </th><th>shape  </th><th>dtype  </th><th style=\"text-align: right;\">  value</th></tr>\n",
       "</thead>\n",
       "<tbody>\n",
       "<tr><td>SquaredExponential.variance    </td><td>Parameter</td><td>Softplus   </td><td>       </td><td>True       </td><td>()     </td><td>float64</td><td style=\"text-align: right;\">0      </td></tr>\n",
       "<tr><td>SquaredExponential.lengthscales</td><td>Parameter</td><td>Softplus   </td><td>       </td><td>True       </td><td>()     </td><td>float64</td><td style=\"text-align: right;\">0.17909</td></tr>\n",
       "</tbody>\n",
       "</table>"
      ],
      "text/plain": [
       "<gpflow.kernels.stationaries.SquaredExponential object at 0x7fb75bb2b130>\n",
       "╒═════════════════════════════════╤═══════════╤═════════════╤═════════╤═════════════╤═════════╤═════════╤═════════╕\n",
       "│ name                            │ class     │ transform   │ prior   │ trainable   │ shape   │ dtype   │   value │\n",
       "╞═════════════════════════════════╪═══════════╪═════════════╪═════════╪═════════════╪═════════╪═════════╪═════════╡\n",
       "│ SquaredExponential.variance     │ Parameter │ Softplus    │         │ True        │ ()      │ float64 │ 0       │\n",
       "├─────────────────────────────────┼───────────┼─────────────┼─────────┼─────────────┼─────────┼─────────┼─────────┤\n",
       "│ SquaredExponential.lengthscales │ Parameter │ Softplus    │         │ True        │ ()      │ float64 │ 0.17909 │\n",
       "╘═════════════════════════════════╧═══════════╧═════════════╧═════════╧═════════════╧═════════╧═════════╧═════════╛"
      ]
     },
     "execution_count": 44,
     "metadata": {},
     "output_type": "execute_result"
    }
   ],
   "source": [
    "new_model.kernel"
   ]
  },
  {
   "cell_type": "code",
   "execution_count": 45,
   "metadata": {},
   "outputs": [
    {
     "data": {
      "text/html": [
       "&lt;gpflow.models.vgp.VGP object at 0x7fb6e881f6d0&gt;\n",
       "<table>\n",
       "<thead>\n",
       "<tr><th>name                          </th><th>class    </th><th>transform     </th><th>prior  </th><th>trainable  </th><th>shape      </th><th>dtype  </th><th>value           </th></tr>\n",
       "</thead>\n",
       "<tbody>\n",
       "<tr><td>VGP.kernel.variance           </td><td>Parameter</td><td>Softplus      </td><td>       </td><td>True       </td><td>()         </td><td>float64</td><td>0.0             </td></tr>\n",
       "<tr><td>VGP.kernel.lengthscales       </td><td>Parameter</td><td>Softplus      </td><td>       </td><td>True       </td><td>()         </td><td>float64</td><td>0.17909         </td></tr>\n",
       "<tr><td>VGP.likelihood.invlink.epsilon</td><td>Parameter</td><td>Sigmoid       </td><td>Beta   </td><td>False      </td><td>()         </td><td>float64</td><td>0.001           </td></tr>\n",
       "<tr><td>VGP.num_data                  </td><td>Parameter</td><td>Identity      </td><td>       </td><td>False      </td><td>()         </td><td>int32  </td><td>11              </td></tr>\n",
       "<tr><td>VGP.q_mu                      </td><td>Parameter</td><td>Identity      </td><td>       </td><td>True       </td><td>(11, 3)    </td><td>float64</td><td>[[0., 0., 0.... </td></tr>\n",
       "<tr><td>VGP.q_sqrt                    </td><td>Parameter</td><td>FillTriangular</td><td>       </td><td>True       </td><td>(3, 11, 11)</td><td>float64</td><td>[[[1., 0., 0....</td></tr>\n",
       "</tbody>\n",
       "</table>"
      ],
      "text/plain": [
       "<gpflow.models.vgp.VGP object at 0x7fb6e881f6d0>\n",
       "╒════════════════════════════════╤═══════════╤════════════════╤═════════╤═════════════╤═════════════╤═════════╤══════════════════╕\n",
       "│ name                           │ class     │ transform      │ prior   │ trainable   │ shape       │ dtype   │ value            │\n",
       "╞════════════════════════════════╪═══════════╪════════════════╪═════════╪═════════════╪═════════════╪═════════╪══════════════════╡\n",
       "│ VGP.kernel.variance            │ Parameter │ Softplus       │         │ True        │ ()          │ float64 │ 0.0              │\n",
       "├────────────────────────────────┼───────────┼────────────────┼─────────┼─────────────┼─────────────┼─────────┼──────────────────┤\n",
       "│ VGP.kernel.lengthscales        │ Parameter │ Softplus       │         │ True        │ ()          │ float64 │ 0.17909          │\n",
       "├────────────────────────────────┼───────────┼────────────────┼─────────┼─────────────┼─────────────┼─────────┼──────────────────┤\n",
       "│ VGP.likelihood.invlink.epsilon │ Parameter │ Sigmoid        │ Beta    │ False       │ ()          │ float64 │ 0.001            │\n",
       "├────────────────────────────────┼───────────┼────────────────┼─────────┼─────────────┼─────────────┼─────────┼──────────────────┤\n",
       "│ VGP.num_data                   │ Parameter │ Identity       │         │ False       │ ()          │ int32   │ 11               │\n",
       "├────────────────────────────────┼───────────┼────────────────┼─────────┼─────────────┼─────────────┼─────────┼──────────────────┤\n",
       "│ VGP.q_mu                       │ Parameter │ Identity       │         │ True        │ (11, 3)     │ float64 │ [[0., 0., 0....  │\n",
       "├────────────────────────────────┼───────────┼────────────────┼─────────┼─────────────┼─────────────┼─────────┼──────────────────┤\n",
       "│ VGP.q_sqrt                     │ Parameter │ FillTriangular │         │ True        │ (3, 11, 11) │ float64 │ [[[1., 0., 0.... │\n",
       "╘════════════════════════════════╧═══════════╧════════════════╧═════════╧═════════════╧═════════════╧═════════╧══════════════════╛"
      ]
     },
     "execution_count": 45,
     "metadata": {},
     "output_type": "execute_result"
    }
   ],
   "source": [
    "new_model.model"
   ]
  },
  {
   "cell_type": "code",
   "execution_count": 46,
   "metadata": {},
   "outputs": [
    {
     "data": {
      "text/plain": [
       "gpflow.kernels.stationaries.SquaredExponential"
      ]
     },
     "execution_count": 46,
     "metadata": {},
     "output_type": "execute_result"
    }
   ],
   "source": [
    "(new_model.kernel.__class__)"
   ]
  },
  {
   "cell_type": "code",
   "execution_count": 47,
   "metadata": {},
   "outputs": [],
   "source": [
    "new_kernel = gpflow.kernels.Matern32(variance=1.0, lengthscales=1.0)"
   ]
  },
  {
   "cell_type": "code",
   "execution_count": 48,
   "metadata": {},
   "outputs": [],
   "source": [
    "new_model.kernel = new_kernel"
   ]
  },
  {
   "cell_type": "code",
   "execution_count": 49,
   "metadata": {},
   "outputs": [
    {
     "data": {
      "text/html": [
       "&lt;hermes.classification.heteroscedastic_gpc.HeteroscedasticMultiClass object at 0x7fb6e88a4c10&gt;\n",
       "<table>\n",
       "<thead>\n",
       "<tr><th>name                                     </th><th>class    </th><th>transform  </th><th>prior  </th><th>trainable  </th><th>shape  </th><th>dtype  </th><th style=\"text-align: right;\">  value</th></tr>\n",
       "</thead>\n",
       "<tbody>\n",
       "<tr><td>HeteroscedasticMultiClass.invlink.epsilon</td><td>Parameter</td><td>Sigmoid    </td><td>Beta   </td><td>False      </td><td>()     </td><td>float64</td><td style=\"text-align: right;\">  0.001</td></tr>\n",
       "</tbody>\n",
       "</table>"
      ],
      "text/plain": [
       "<hermes.classification.heteroscedastic_gpc.HeteroscedasticMultiClass object at 0x7fb6e88a4c10>\n",
       "╒═══════════════════════════════════════════╤═══════════╤═════════════╤═════════╤═════════════╤═════════╤═════════╤═════════╕\n",
       "│ name                                      │ class     │ transform   │ prior   │ trainable   │ shape   │ dtype   │   value │\n",
       "╞═══════════════════════════════════════════╪═══════════╪═════════════╪═════════╪═════════════╪═════════╪═════════╪═════════╡\n",
       "│ HeteroscedasticMultiClass.invlink.epsilon │ Parameter │ Sigmoid     │ Beta    │ False       │ ()      │ float64 │   0.001 │\n",
       "╘═══════════════════════════════════════════╧═══════════╧═════════════╧═════════╧═════════════╧═════════╧═════════╧═════════╛"
      ]
     },
     "execution_count": 49,
     "metadata": {},
     "output_type": "execute_result"
    }
   ],
   "source": [
    "new_model.model.likelihood\n",
    "# TODO likelihood?"
   ]
  },
  {
   "cell_type": "code",
   "execution_count": 50,
   "metadata": {},
   "outputs": [],
   "source": [
    "new_model.kernel = gpflow.kernels.Matern12(variance=1.0, lengthscales=1.0)"
   ]
  },
  {
   "cell_type": "code",
   "execution_count": 51,
   "metadata": {},
   "outputs": [
    {
     "data": {
      "text/html": [
       "&lt;gpflow.kernels.stationaries.Matern12 object at 0x7fb6e39a54b0&gt;\n",
       "<table>\n",
       "<thead>\n",
       "<tr><th>name                 </th><th>class    </th><th>transform  </th><th>prior  </th><th>trainable  </th><th>shape  </th><th>dtype  </th><th style=\"text-align: right;\">  value</th></tr>\n",
       "</thead>\n",
       "<tbody>\n",
       "<tr><td>Matern12.variance    </td><td>Parameter</td><td>Softplus   </td><td>       </td><td>True       </td><td>()     </td><td>float64</td><td style=\"text-align: right;\">      1</td></tr>\n",
       "<tr><td>Matern12.lengthscales</td><td>Parameter</td><td>Softplus   </td><td>       </td><td>True       </td><td>()     </td><td>float64</td><td style=\"text-align: right;\">      1</td></tr>\n",
       "</tbody>\n",
       "</table>"
      ],
      "text/plain": [
       "<gpflow.kernels.stationaries.Matern12 object at 0x7fb6e39a54b0>\n",
       "╒═══════════════════════╤═══════════╤═════════════╤═════════╤═════════════╤═════════╤═════════╤═════════╕\n",
       "│ name                  │ class     │ transform   │ prior   │ trainable   │ shape   │ dtype   │   value │\n",
       "╞═══════════════════════╪═══════════╪═════════════╪═════════╪═════════════╪═════════╪═════════╪═════════╡\n",
       "│ Matern12.variance     │ Parameter │ Softplus    │         │ True        │ ()      │ float64 │       1 │\n",
       "├───────────────────────┼───────────┼─────────────┼─────────┼─────────────┼─────────┼─────────┼─────────┤\n",
       "│ Matern12.lengthscales │ Parameter │ Softplus    │         │ True        │ ()      │ float64 │       1 │\n",
       "╘═══════════════════════╧═══════════╧═════════════╧═════════╧═════════════╧═════════╧═════════╧═════════╛"
      ]
     },
     "execution_count": 51,
     "metadata": {},
     "output_type": "execute_result"
    }
   ],
   "source": [
    "new_model.model.kernel"
   ]
  },
  {
   "cell_type": "code",
   "execution_count": 52,
   "metadata": {},
   "outputs": [],
   "source": [
    "new_model.load_params(classification_method.model)"
   ]
  },
  {
   "cell_type": "code",
   "execution_count": 53,
   "metadata": {},
   "outputs": [
    {
     "data": {
      "text/html": [
       "&lt;gpflow.models.vgp.VGP object at 0x7fb6e39a5a50&gt;\n",
       "<table>\n",
       "<thead>\n",
       "<tr><th>name                          </th><th>class    </th><th>transform     </th><th>prior  </th><th>trainable  </th><th>shape      </th><th>dtype  </th><th>value                                   </th></tr>\n",
       "</thead>\n",
       "<tbody>\n",
       "<tr><td>VGP.kernel.variance           </td><td>Parameter</td><td>Softplus      </td><td>       </td><td>True       </td><td>()         </td><td>float64</td><td>0.0                                     </td></tr>\n",
       "<tr><td>VGP.kernel.lengthscales       </td><td>Parameter</td><td>Softplus      </td><td>       </td><td>True       </td><td>()         </td><td>float64</td><td>0.17909                                 </td></tr>\n",
       "<tr><td>VGP.likelihood.invlink.epsilon</td><td>Parameter</td><td>Sigmoid       </td><td>Beta   </td><td>False      </td><td>()         </td><td>float64</td><td>0.001                                   </td></tr>\n",
       "<tr><td>VGP.num_data                  </td><td>Parameter</td><td>Identity      </td><td>       </td><td>False      </td><td>()         </td><td>int32  </td><td>11                                      </td></tr>\n",
       "<tr><td>VGP.q_mu                      </td><td>Parameter</td><td>Identity      </td><td>       </td><td>True       </td><td>(11, 3)    </td><td>float64</td><td>[[-0.37791, -0.22552, 0.60329...        </td></tr>\n",
       "<tr><td>VGP.q_sqrt                    </td><td>Parameter</td><td>FillTriangular</td><td>       </td><td>True       </td><td>(3, 11, 11)</td><td>float64</td><td>[[[4.0209e-01, 0.0000e+00, 0.0000e+00...</td></tr>\n",
       "</tbody>\n",
       "</table>"
      ],
      "text/plain": [
       "<gpflow.models.vgp.VGP object at 0x7fb6e39a5a50>\n",
       "╒════════════════════════════════╤═══════════╤════════════════╤═════════╤═════════════╤═════════════╤═════════╤══════════════════════════════════════════╕\n",
       "│ name                           │ class     │ transform      │ prior   │ trainable   │ shape       │ dtype   │ value                                    │\n",
       "╞════════════════════════════════╪═══════════╪════════════════╪═════════╪═════════════╪═════════════╪═════════╪══════════════════════════════════════════╡\n",
       "│ VGP.kernel.variance            │ Parameter │ Softplus       │         │ True        │ ()          │ float64 │ 0.0                                      │\n",
       "├────────────────────────────────┼───────────┼────────────────┼─────────┼─────────────┼─────────────┼─────────┼──────────────────────────────────────────┤\n",
       "│ VGP.kernel.lengthscales        │ Parameter │ Softplus       │         │ True        │ ()          │ float64 │ 0.17909                                  │\n",
       "├────────────────────────────────┼───────────┼────────────────┼─────────┼─────────────┼─────────────┼─────────┼──────────────────────────────────────────┤\n",
       "│ VGP.likelihood.invlink.epsilon │ Parameter │ Sigmoid        │ Beta    │ False       │ ()          │ float64 │ 0.001                                    │\n",
       "├────────────────────────────────┼───────────┼────────────────┼─────────┼─────────────┼─────────────┼─────────┼──────────────────────────────────────────┤\n",
       "│ VGP.num_data                   │ Parameter │ Identity       │         │ False       │ ()          │ int32   │ 11                                       │\n",
       "├────────────────────────────────┼───────────┼────────────────┼─────────┼─────────────┼─────────────┼─────────┼──────────────────────────────────────────┤\n",
       "│ VGP.q_mu                       │ Parameter │ Identity       │         │ True        │ (11, 3)     │ float64 │ [[-0.37791, -0.22552, 0.60329...         │\n",
       "├────────────────────────────────┼───────────┼────────────────┼─────────┼─────────────┼─────────────┼─────────┼──────────────────────────────────────────┤\n",
       "│ VGP.q_sqrt                     │ Parameter │ FillTriangular │         │ True        │ (3, 11, 11) │ float64 │ [[[4.0209e-01, 0.0000e+00, 0.0000e+00... │\n",
       "╘════════════════════════════════╧═══════════╧════════════════╧═════════╧═════════════╧═════════════╧═════════╧══════════════════════════════════════════╛"
      ]
     },
     "execution_count": 53,
     "metadata": {},
     "output_type": "execute_result"
    }
   ],
   "source": [
    "new_model.model"
   ]
  },
  {
   "cell_type": "code",
   "execution_count": 54,
   "metadata": {},
   "outputs": [],
   "source": [
    "new_model = hermes.classification.HeteroscedasticGPC(\n",
    "    locations=locations,\n",
    "    labels=cluster_method.labels,\n",
    "    domain=domain,\n",
    "    probabilities=cluster_method.probabilities,\n",
    "    measured_indexes=indexes,\n",
    "    indexes=indexes,\n",
    ")\n"
   ]
  },
  {
   "cell_type": "code",
   "execution_count": 55,
   "metadata": {},
   "outputs": [
    {
     "data": {
      "text/html": [
       "&lt;gpflow.models.vgp.VGP object at 0x7fb6e84e9d50&gt;\n",
       "<table>\n",
       "<thead>\n",
       "<tr><th>name                          </th><th>class    </th><th>transform     </th><th>prior  </th><th>trainable  </th><th>shape      </th><th>dtype  </th><th>value           </th></tr>\n",
       "</thead>\n",
       "<tbody>\n",
       "<tr><td>VGP.kernel.variance           </td><td>Parameter</td><td>Softplus      </td><td>       </td><td>True       </td><td>()         </td><td>float64</td><td>0.0             </td></tr>\n",
       "<tr><td>VGP.kernel.lengthscales       </td><td>Parameter</td><td>Softplus      </td><td>       </td><td>True       </td><td>()         </td><td>float64</td><td>0.17909         </td></tr>\n",
       "<tr><td>VGP.likelihood.invlink.epsilon</td><td>Parameter</td><td>Sigmoid       </td><td>Beta   </td><td>False      </td><td>()         </td><td>float64</td><td>0.001           </td></tr>\n",
       "<tr><td>VGP.num_data                  </td><td>Parameter</td><td>Identity      </td><td>       </td><td>False      </td><td>()         </td><td>int32  </td><td>11              </td></tr>\n",
       "<tr><td>VGP.q_mu                      </td><td>Parameter</td><td>Identity      </td><td>       </td><td>True       </td><td>(11, 3)    </td><td>float64</td><td>[[0., 0., 0.... </td></tr>\n",
       "<tr><td>VGP.q_sqrt                    </td><td>Parameter</td><td>FillTriangular</td><td>       </td><td>True       </td><td>(3, 11, 11)</td><td>float64</td><td>[[[1., 0., 0....</td></tr>\n",
       "</tbody>\n",
       "</table>"
      ],
      "text/plain": [
       "<gpflow.models.vgp.VGP object at 0x7fb6e84e9d50>\n",
       "╒════════════════════════════════╤═══════════╤════════════════╤═════════╤═════════════╤═════════════╤═════════╤══════════════════╕\n",
       "│ name                           │ class     │ transform      │ prior   │ trainable   │ shape       │ dtype   │ value            │\n",
       "╞════════════════════════════════╪═══════════╪════════════════╪═════════╪═════════════╪═════════════╪═════════╪══════════════════╡\n",
       "│ VGP.kernel.variance            │ Parameter │ Softplus       │         │ True        │ ()          │ float64 │ 0.0              │\n",
       "├────────────────────────────────┼───────────┼────────────────┼─────────┼─────────────┼─────────────┼─────────┼──────────────────┤\n",
       "│ VGP.kernel.lengthscales        │ Parameter │ Softplus       │         │ True        │ ()          │ float64 │ 0.17909          │\n",
       "├────────────────────────────────┼───────────┼────────────────┼─────────┼─────────────┼─────────────┼─────────┼──────────────────┤\n",
       "│ VGP.likelihood.invlink.epsilon │ Parameter │ Sigmoid        │ Beta    │ False       │ ()          │ float64 │ 0.001            │\n",
       "├────────────────────────────────┼───────────┼────────────────┼─────────┼─────────────┼─────────────┼─────────┼──────────────────┤\n",
       "│ VGP.num_data                   │ Parameter │ Identity       │         │ False       │ ()          │ int32   │ 11               │\n",
       "├────────────────────────────────┼───────────┼────────────────┼─────────┼─────────────┼─────────────┼─────────┼──────────────────┤\n",
       "│ VGP.q_mu                       │ Parameter │ Identity       │         │ True        │ (11, 3)     │ float64 │ [[0., 0., 0....  │\n",
       "├────────────────────────────────┼───────────┼────────────────┼─────────┼─────────────┼─────────────┼─────────┼──────────────────┤\n",
       "│ VGP.q_sqrt                     │ Parameter │ FillTriangular │         │ True        │ (3, 11, 11) │ float64 │ [[[1., 0., 0.... │\n",
       "╘════════════════════════════════╧═══════════╧════════════════╧═════════╧═════════════╧═════════════╧═════════╧══════════════════╛"
      ]
     },
     "execution_count": 55,
     "metadata": {},
     "output_type": "execute_result"
    }
   ],
   "source": [
    "new_model.model"
   ]
  },
  {
   "cell_type": "code",
   "execution_count": 56,
   "metadata": {},
   "outputs": [],
   "source": [
    "\n",
    "new_model.load_params(classification_method)"
   ]
  },
  {
   "cell_type": "code",
   "execution_count": 57,
   "metadata": {},
   "outputs": [
    {
     "data": {
      "text/html": [
       "&lt;gpflow.models.vgp.VGP object at 0x7fb6e84e9d50&gt;\n",
       "<table>\n",
       "<thead>\n",
       "<tr><th>name                          </th><th>class    </th><th>transform     </th><th>prior  </th><th>trainable  </th><th>shape      </th><th>dtype  </th><th>value                                   </th></tr>\n",
       "</thead>\n",
       "<tbody>\n",
       "<tr><td>VGP.kernel.variance           </td><td>Parameter</td><td>Softplus      </td><td>       </td><td>True       </td><td>()         </td><td>float64</td><td>0.0                                     </td></tr>\n",
       "<tr><td>VGP.kernel.lengthscales       </td><td>Parameter</td><td>Softplus      </td><td>       </td><td>True       </td><td>()         </td><td>float64</td><td>0.17909                                 </td></tr>\n",
       "<tr><td>VGP.likelihood.invlink.epsilon</td><td>Parameter</td><td>Sigmoid       </td><td>Beta   </td><td>False      </td><td>()         </td><td>float64</td><td>0.001                                   </td></tr>\n",
       "<tr><td>VGP.num_data                  </td><td>Parameter</td><td>Identity      </td><td>       </td><td>False      </td><td>()         </td><td>int32  </td><td>11                                      </td></tr>\n",
       "<tr><td>VGP.q_mu                      </td><td>Parameter</td><td>Identity      </td><td>       </td><td>True       </td><td>(11, 3)    </td><td>float64</td><td>[[-0.37791, -0.22552, 0.60329...        </td></tr>\n",
       "<tr><td>VGP.q_sqrt                    </td><td>Parameter</td><td>FillTriangular</td><td>       </td><td>True       </td><td>(3, 11, 11)</td><td>float64</td><td>[[[4.0209e-01, 0.0000e+00, 0.0000e+00...</td></tr>\n",
       "</tbody>\n",
       "</table>"
      ],
      "text/plain": [
       "<gpflow.models.vgp.VGP object at 0x7fb6e84e9d50>\n",
       "╒════════════════════════════════╤═══════════╤════════════════╤═════════╤═════════════╤═════════════╤═════════╤══════════════════════════════════════════╕\n",
       "│ name                           │ class     │ transform      │ prior   │ trainable   │ shape       │ dtype   │ value                                    │\n",
       "╞════════════════════════════════╪═══════════╪════════════════╪═════════╪═════════════╪═════════════╪═════════╪══════════════════════════════════════════╡\n",
       "│ VGP.kernel.variance            │ Parameter │ Softplus       │         │ True        │ ()          │ float64 │ 0.0                                      │\n",
       "├────────────────────────────────┼───────────┼────────────────┼─────────┼─────────────┼─────────────┼─────────┼──────────────────────────────────────────┤\n",
       "│ VGP.kernel.lengthscales        │ Parameter │ Softplus       │         │ True        │ ()          │ float64 │ 0.17909                                  │\n",
       "├────────────────────────────────┼───────────┼────────────────┼─────────┼─────────────┼─────────────┼─────────┼──────────────────────────────────────────┤\n",
       "│ VGP.likelihood.invlink.epsilon │ Parameter │ Sigmoid        │ Beta    │ False       │ ()          │ float64 │ 0.001                                    │\n",
       "├────────────────────────────────┼───────────┼────────────────┼─────────┼─────────────┼─────────────┼─────────┼──────────────────────────────────────────┤\n",
       "│ VGP.num_data                   │ Parameter │ Identity       │         │ False       │ ()          │ int32   │ 11                                       │\n",
       "├────────────────────────────────┼───────────┼────────────────┼─────────┼─────────────┼─────────────┼─────────┼──────────────────────────────────────────┤\n",
       "│ VGP.q_mu                       │ Parameter │ Identity       │         │ True        │ (11, 3)     │ float64 │ [[-0.37791, -0.22552, 0.60329...         │\n",
       "├────────────────────────────────┼───────────┼────────────────┼─────────┼─────────────┼─────────────┼─────────┼──────────────────────────────────────────┤\n",
       "│ VGP.q_sqrt                     │ Parameter │ FillTriangular │         │ True        │ (3, 11, 11) │ float64 │ [[[4.0209e-01, 0.0000e+00, 0.0000e+00... │\n",
       "╘════════════════════════════════╧═══════════╧════════════════╧═════════╧═════════════╧═════════════╧═════════╧══════════════════════════════════════════╛"
      ]
     },
     "execution_count": 57,
     "metadata": {},
     "output_type": "execute_result"
    }
   ],
   "source": [
    "new_model.model"
   ]
  },
  {
   "cell_type": "code",
   "execution_count": 58,
   "metadata": {},
   "outputs": [],
   "source": [
    "new_model.train()"
   ]
  },
  {
   "cell_type": "code",
   "execution_count": 59,
   "metadata": {},
   "outputs": [
    {
     "data": {
      "text/html": [
       "&lt;gpflow.models.vgp.VGP object at 0x7fb6e84e9d50&gt;\n",
       "<table>\n",
       "<thead>\n",
       "<tr><th>name                          </th><th>class    </th><th>transform     </th><th>prior  </th><th>trainable  </th><th>shape      </th><th>dtype  </th><th>value                                   </th></tr>\n",
       "</thead>\n",
       "<tbody>\n",
       "<tr><td>VGP.kernel.variance           </td><td>Parameter</td><td>Softplus      </td><td>       </td><td>True       </td><td>()         </td><td>float64</td><td>0.0                                     </td></tr>\n",
       "<tr><td>VGP.kernel.lengthscales       </td><td>Parameter</td><td>Softplus      </td><td>       </td><td>True       </td><td>()         </td><td>float64</td><td>0.17909                                 </td></tr>\n",
       "<tr><td>VGP.likelihood.invlink.epsilon</td><td>Parameter</td><td>Sigmoid       </td><td>Beta   </td><td>False      </td><td>()         </td><td>float64</td><td>0.001                                   </td></tr>\n",
       "<tr><td>VGP.num_data                  </td><td>Parameter</td><td>Identity      </td><td>       </td><td>False      </td><td>()         </td><td>int32  </td><td>11                                      </td></tr>\n",
       "<tr><td>VGP.q_mu                      </td><td>Parameter</td><td>Identity      </td><td>       </td><td>True       </td><td>(11, 3)    </td><td>float64</td><td>[[-0.37787, -0.2255, 0.60332...         </td></tr>\n",
       "<tr><td>VGP.q_sqrt                    </td><td>Parameter</td><td>FillTriangular</td><td>       </td><td>True       </td><td>(3, 11, 11)</td><td>float64</td><td>[[[4.0210e-01, 0.0000e+00, 0.0000e+00...</td></tr>\n",
       "</tbody>\n",
       "</table>"
      ],
      "text/plain": [
       "<gpflow.models.vgp.VGP object at 0x7fb6e84e9d50>\n",
       "╒════════════════════════════════╤═══════════╤════════════════╤═════════╤═════════════╤═════════════╤═════════╤══════════════════════════════════════════╕\n",
       "│ name                           │ class     │ transform      │ prior   │ trainable   │ shape       │ dtype   │ value                                    │\n",
       "╞════════════════════════════════╪═══════════╪════════════════╪═════════╪═════════════╪═════════════╪═════════╪══════════════════════════════════════════╡\n",
       "│ VGP.kernel.variance            │ Parameter │ Softplus       │         │ True        │ ()          │ float64 │ 0.0                                      │\n",
       "├────────────────────────────────┼───────────┼────────────────┼─────────┼─────────────┼─────────────┼─────────┼──────────────────────────────────────────┤\n",
       "│ VGP.kernel.lengthscales        │ Parameter │ Softplus       │         │ True        │ ()          │ float64 │ 0.17909                                  │\n",
       "├────────────────────────────────┼───────────┼────────────────┼─────────┼─────────────┼─────────────┼─────────┼──────────────────────────────────────────┤\n",
       "│ VGP.likelihood.invlink.epsilon │ Parameter │ Sigmoid        │ Beta    │ False       │ ()          │ float64 │ 0.001                                    │\n",
       "├────────────────────────────────┼───────────┼────────────────┼─────────┼─────────────┼─────────────┼─────────┼──────────────────────────────────────────┤\n",
       "│ VGP.num_data                   │ Parameter │ Identity       │         │ False       │ ()          │ int32   │ 11                                       │\n",
       "├────────────────────────────────┼───────────┼────────────────┼─────────┼─────────────┼─────────────┼─────────┼──────────────────────────────────────────┤\n",
       "│ VGP.q_mu                       │ Parameter │ Identity       │         │ True        │ (11, 3)     │ float64 │ [[-0.37787, -0.2255, 0.60332...          │\n",
       "├────────────────────────────────┼───────────┼────────────────┼─────────┼─────────────┼─────────────┼─────────┼──────────────────────────────────────────┤\n",
       "│ VGP.q_sqrt                     │ Parameter │ FillTriangular │         │ True        │ (3, 11, 11) │ float64 │ [[[4.0210e-01, 0.0000e+00, 0.0000e+00... │\n",
       "╘════════════════════════════════╧═══════════╧════════════════╧═════════╧═════════════╧═════════════╧═════════╧══════════════════════════════════════════╛"
      ]
     },
     "execution_count": 59,
     "metadata": {},
     "output_type": "execute_result"
    }
   ],
   "source": [
    "new_model.model\n",
    "# TODO not memory, disk"
   ]
  },
  {
   "cell_type": "code",
   "execution_count": 60,
   "metadata": {},
   "outputs": [],
   "source": [
    "import tensorflow as tf\n",
    "from typing import List, Optional, Tuple, Union, Callable"
   ]
  },
  {
   "cell_type": "code",
   "execution_count": 61,
   "metadata": {},
   "outputs": [
    {
     "data": {
      "text/plain": [
       "False"
      ]
     },
     "execution_count": 61,
     "metadata": {},
     "output_type": "execute_result"
    }
   ],
   "source": [
    "hasattr(classification_method.model, \"compiled_predict_f\")"
   ]
  },
  {
   "cell_type": "code",
   "execution_count": 62,
   "metadata": {},
   "outputs": [
    {
     "data": {
      "text/plain": [
       "(177, 2)"
      ]
     },
     "execution_count": 62,
     "metadata": {},
     "output_type": "execute_result"
    }
   ],
   "source": [
    "domain.shape"
   ]
  },
  {
   "cell_type": "code",
   "execution_count": 63,
   "metadata": {},
   "outputs": [],
   "source": [
    "from typing import Any"
   ]
  },
  {
   "cell_type": "code",
   "execution_count": 64,
   "metadata": {},
   "outputs": [],
   "source": [
    "# from https://gpflow.github.io/GPflow/2.9.0/notebooks/getting_started/saving_and_loading.html#TensorFlow-saved_model\n",
    "classification_method.model.compiled_predict_f = tf.function(\n",
    "    lambda Xnew: classification_method.model.predict_f(Xnew, full_cov=False),\n",
    "    input_signature=[tf.TensorSpec(shape=[None,domain.shape[1]], dtype=tf.float64)],\n",
    ")\n",
    "classification_method.model.compiled_predict_y = tf.function(\n",
    "    lambda Xnew: classification_method.model.predict_y(Xnew, full_cov=False),\n",
    "    input_signature=[tf.TensorSpec(shape=[None,domain.shape[1]], dtype=tf.float64)],\n",
    ")"
   ]
  },
  {
   "cell_type": "code",
   "execution_count": 65,
   "metadata": {},
   "outputs": [
    {
     "name": "stdout",
     "output_type": "stream",
     "text": [
      "INFO:tensorflow:Assets written to: saved_model_test_1/assets\n"
     ]
    },
    {
     "name": "stderr",
     "output_type": "stream",
     "text": [
      "INFO:tensorflow:Assets written to: saved_model_test_1/assets\n"
     ]
    }
   ],
   "source": [
    "tf.saved_model.save(classification_method.model, \"saved_model_test_1\")"
   ]
  },
  {
   "cell_type": "code",
   "execution_count": 66,
   "metadata": {},
   "outputs": [],
   "source": [
    "load_test = tf.saved_model.load(\"saved_model_test_1\")"
   ]
  },
  {
   "cell_type": "code",
   "execution_count": 67,
   "metadata": {},
   "outputs": [
    {
     "data": {
      "text/html": [
       "&lt;gpflow.kernels.stationaries.SquaredExponential object at 0x7fb75bb2b130&gt;\n",
       "<table>\n",
       "<thead>\n",
       "<tr><th>name                           </th><th>class    </th><th>transform  </th><th>prior  </th><th>trainable  </th><th>shape  </th><th>dtype  </th><th style=\"text-align: right;\">  value</th></tr>\n",
       "</thead>\n",
       "<tbody>\n",
       "<tr><td>SquaredExponential.variance    </td><td>Parameter</td><td>Softplus   </td><td>       </td><td>True       </td><td>()     </td><td>float64</td><td style=\"text-align: right;\">0      </td></tr>\n",
       "<tr><td>SquaredExponential.lengthscales</td><td>Parameter</td><td>Softplus   </td><td>       </td><td>True       </td><td>()     </td><td>float64</td><td style=\"text-align: right;\">0.17909</td></tr>\n",
       "</tbody>\n",
       "</table>"
      ],
      "text/plain": [
       "<gpflow.kernels.stationaries.SquaredExponential object at 0x7fb75bb2b130>\n",
       "╒═════════════════════════════════╤═══════════╤═════════════╤═════════╤═════════════╤═════════╤═════════╤═════════╕\n",
       "│ name                            │ class     │ transform   │ prior   │ trainable   │ shape   │ dtype   │   value │\n",
       "╞═════════════════════════════════╪═══════════╪═════════════╪═════════╪═════════════╪═════════╪═════════╪═════════╡\n",
       "│ SquaredExponential.variance     │ Parameter │ Softplus    │         │ True        │ ()      │ float64 │ 0       │\n",
       "├─────────────────────────────────┼───────────┼─────────────┼─────────┼─────────────┼─────────┼─────────┼─────────┤\n",
       "│ SquaredExponential.lengthscales │ Parameter │ Softplus    │         │ True        │ ()      │ float64 │ 0.17909 │\n",
       "╘═════════════════════════════════╧═══════════╧═════════════╧═════════╧═════════════╧═════════╧═════════╧═════════╛"
      ]
     },
     "execution_count": 67,
     "metadata": {},
     "output_type": "execute_result"
    }
   ],
   "source": [
    "classification_method.kernel #original"
   ]
  },
  {
   "cell_type": "code",
   "execution_count": 68,
   "metadata": {
    "scrolled": true
   },
   "outputs": [
    {
     "data": {
      "text/html": [
       "&lt;gpflow.models.vgp.VGP object at 0x7fb6e881ee30&gt;\n",
       "<table>\n",
       "<thead>\n",
       "<tr><th>name                          </th><th>class    </th><th>transform     </th><th>prior  </th><th>trainable  </th><th>shape      </th><th>dtype  </th><th>value                                   </th></tr>\n",
       "</thead>\n",
       "<tbody>\n",
       "<tr><td>VGP.kernel.variance           </td><td>Parameter</td><td>Softplus      </td><td>       </td><td>True       </td><td>()         </td><td>float64</td><td>0.0                                     </td></tr>\n",
       "<tr><td>VGP.kernel.lengthscales       </td><td>Parameter</td><td>Softplus      </td><td>       </td><td>True       </td><td>()         </td><td>float64</td><td>0.17909                                 </td></tr>\n",
       "<tr><td>VGP.likelihood.invlink.epsilon</td><td>Parameter</td><td>Sigmoid       </td><td>Beta   </td><td>False      </td><td>()         </td><td>float64</td><td>0.001                                   </td></tr>\n",
       "<tr><td>VGP.num_data                  </td><td>Parameter</td><td>Identity      </td><td>       </td><td>False      </td><td>()         </td><td>int32  </td><td>11                                      </td></tr>\n",
       "<tr><td>VGP.q_mu                      </td><td>Parameter</td><td>Identity      </td><td>       </td><td>True       </td><td>(11, 3)    </td><td>float64</td><td>[[-0.37791, -0.22552, 0.60329...        </td></tr>\n",
       "<tr><td>VGP.q_sqrt                    </td><td>Parameter</td><td>FillTriangular</td><td>       </td><td>True       </td><td>(3, 11, 11)</td><td>float64</td><td>[[[4.0209e-01, 0.0000e+00, 0.0000e+00...</td></tr>\n",
       "</tbody>\n",
       "</table>"
      ],
      "text/plain": [
       "<gpflow.models.vgp.VGP object at 0x7fb6e881ee30>\n",
       "╒════════════════════════════════╤═══════════╤════════════════╤═════════╤═════════════╤═════════════╤═════════╤══════════════════════════════════════════╕\n",
       "│ name                           │ class     │ transform      │ prior   │ trainable   │ shape       │ dtype   │ value                                    │\n",
       "╞════════════════════════════════╪═══════════╪════════════════╪═════════╪═════════════╪═════════════╪═════════╪══════════════════════════════════════════╡\n",
       "│ VGP.kernel.variance            │ Parameter │ Softplus       │         │ True        │ ()          │ float64 │ 0.0                                      │\n",
       "├────────────────────────────────┼───────────┼────────────────┼─────────┼─────────────┼─────────────┼─────────┼──────────────────────────────────────────┤\n",
       "│ VGP.kernel.lengthscales        │ Parameter │ Softplus       │         │ True        │ ()          │ float64 │ 0.17909                                  │\n",
       "├────────────────────────────────┼───────────┼────────────────┼─────────┼─────────────┼─────────────┼─────────┼──────────────────────────────────────────┤\n",
       "│ VGP.likelihood.invlink.epsilon │ Parameter │ Sigmoid        │ Beta    │ False       │ ()          │ float64 │ 0.001                                    │\n",
       "├────────────────────────────────┼───────────┼────────────────┼─────────┼─────────────┼─────────────┼─────────┼──────────────────────────────────────────┤\n",
       "│ VGP.num_data                   │ Parameter │ Identity       │         │ False       │ ()          │ int32   │ 11                                       │\n",
       "├────────────────────────────────┼───────────┼────────────────┼─────────┼─────────────┼─────────────┼─────────┼──────────────────────────────────────────┤\n",
       "│ VGP.q_mu                       │ Parameter │ Identity       │         │ True        │ (11, 3)     │ float64 │ [[-0.37791, -0.22552, 0.60329...         │\n",
       "├────────────────────────────────┼───────────┼────────────────┼─────────┼─────────────┼─────────────┼─────────┼──────────────────────────────────────────┤\n",
       "│ VGP.q_sqrt                     │ Parameter │ FillTriangular │         │ True        │ (3, 11, 11) │ float64 │ [[[4.0209e-01, 0.0000e+00, 0.0000e+00... │\n",
       "╘════════════════════════════════╧═══════════╧════════════════╧═════════╧═════════════╧═════════════╧═════════╧══════════════════════════════════════════╛"
      ]
     },
     "execution_count": 68,
     "metadata": {},
     "output_type": "execute_result"
    }
   ],
   "source": [
    "classification_method.model"
   ]
  },
  {
   "cell_type": "code",
   "execution_count": 69,
   "metadata": {},
   "outputs": [],
   "source": [
    "classification_method.save_params(\"testsaveparams.hdf5\")"
   ]
  },
  {
   "cell_type": "code",
   "execution_count": null,
   "metadata": {},
   "outputs": [],
   "source": []
  },
  {
   "cell_type": "code",
   "execution_count": 70,
   "metadata": {},
   "outputs": [],
   "source": []
  },
  {
   "cell_type": "code",
   "execution_count": 71,
   "metadata": {},
   "outputs": [],
   "source": []
  },
  {
   "cell_type": "code",
   "execution_count": 72,
   "metadata": {},
   "outputs": [],
   "source": [
    "params = gpflow.utilities.parameter_dict(classification_method.model)"
   ]
  },
  {
   "cell_type": "code",
   "execution_count": 75,
   "metadata": {},
   "outputs": [
    {
     "data": {
      "text/plain": [
       "{'_name': 'identity',\n",
       " '_name_scope': <tensorflow.python.framework.ops.name_scope_v2 at 0x7fb6e86dae90>,\n",
       " '_self_setattr_tracking': True,\n",
       " '_self_unconditional_checkpoint_dependencies': [TrackableReference(name=_pretransformed_input, ref=<tf.Variable 'Variable:0' shape=(11, 3) dtype=float64, numpy=\n",
       "  array([[-0.37790632, -0.22552408,  0.60329451],\n",
       "         [-0.14047989,  1.22893186, -1.08835296],\n",
       "         [ 1.43953968, -0.73117933, -0.70836044],\n",
       "         [-0.01447241, -0.75553498,  0.7700031 ],\n",
       "         [ 0.84839044, -0.4330132 , -0.41537995],\n",
       "         [ 1.39534271, -0.53269686, -0.86265958],\n",
       "         [-0.28636256,  0.91992287, -0.63356556],\n",
       "         [ 0.66961407, -0.37548424, -0.29413198],\n",
       "         [-0.37980719,  0.67185821, -0.29203982],\n",
       "         [ 0.23697101, -0.14658625, -0.09038897],\n",
       "         [-0.24466712,  0.94638729, -0.70171586]])>),\n",
       "  TrackableReference(name=_transform_fn, ref=tfp.bijectors.Identity(\"identity\", batch_shape=[], min_event_ndims=0)),\n",
       "  TrackableReference(name=_bijector, ref=tfp.bijectors.Identity(\"identity\", batch_shape=[], min_event_ndims=0))],\n",
       " '_self_unconditional_dependency_names': {'_pretransformed_input': <tf.Variable 'Variable:0' shape=(11, 3) dtype=float64, numpy=\n",
       "  array([[-0.37790632, -0.22552408,  0.60329451],\n",
       "         [-0.14047989,  1.22893186, -1.08835296],\n",
       "         [ 1.43953968, -0.73117933, -0.70836044],\n",
       "         [-0.01447241, -0.75553498,  0.7700031 ],\n",
       "         [ 0.84839044, -0.4330132 , -0.41537995],\n",
       "         [ 1.39534271, -0.53269686, -0.86265958],\n",
       "         [-0.28636256,  0.91992287, -0.63356556],\n",
       "         [ 0.66961407, -0.37548424, -0.29413198],\n",
       "         [-0.37980719,  0.67185821, -0.29203982],\n",
       "         [ 0.23697101, -0.14658625, -0.09038897],\n",
       "         [-0.24466712,  0.94638729, -0.70171586]])>,\n",
       "  '_transform_fn': <tfp.bijectors.Identity 'identity' batch_shape=[] forward_min_event_ndims=0 inverse_min_event_ndims=0 dtype_x=? dtype_y=?>,\n",
       "  '_bijector': <tfp.bijectors.Identity 'identity' batch_shape=[] forward_min_event_ndims=0 inverse_min_event_ndims=0 dtype_x=? dtype_y=?>},\n",
       " '_self_unconditional_deferred_dependencies': {},\n",
       " '_self_update_uid': -1,\n",
       " '_self_name_based_restores': set(),\n",
       " '_self_saveable_object_factories': {},\n",
       " '_pretransformed_input': <tf.Variable 'Variable:0' shape=(11, 3) dtype=float64, numpy=\n",
       " array([[-0.37790632, -0.22552408,  0.60329451],\n",
       "        [-0.14047989,  1.22893186, -1.08835296],\n",
       "        [ 1.43953968, -0.73117933, -0.70836044],\n",
       "        [-0.01447241, -0.75553498,  0.7700031 ],\n",
       "        [ 0.84839044, -0.4330132 , -0.41537995],\n",
       "        [ 1.39534271, -0.53269686, -0.86265958],\n",
       "        [-0.28636256,  0.91992287, -0.63356556],\n",
       "        [ 0.66961407, -0.37548424, -0.29413198],\n",
       "        [-0.37980719,  0.67185821, -0.29203982],\n",
       "        [ 0.23697101, -0.14658625, -0.09038897],\n",
       "        [-0.24466712,  0.94638729, -0.70171586]])>,\n",
       " '_transform_fn': <tfp.bijectors.Identity 'identity' batch_shape=[] forward_min_event_ndims=0 inverse_min_event_ndims=0 dtype_x=? dtype_y=?>,\n",
       " '_dtype': tf.float64,\n",
       " '_shape': TensorShape([11, 3]),\n",
       " '_also_track': None,\n",
       " '_fwd_name': '\"identity\"',\n",
       " 'is_tensor_like': True,\n",
       " '_bijector': <tfp.bijectors.Identity 'identity' batch_shape=[] forward_min_event_ndims=0 inverse_min_event_ndims=0 dtype_x=? dtype_y=?>,\n",
       " 'prior': None,\n",
       " '_prior_on': <PriorOn.CONSTRAINED: 'constrained'>}"
      ]
     },
     "execution_count": 75,
     "metadata": {},
     "output_type": "execute_result"
    }
   ],
   "source": [
    "params[\".q_mu\"].__dict__"
   ]
  },
  {
   "cell_type": "code",
   "execution_count": 42,
   "metadata": {},
   "outputs": [],
   "source": [
    "keys = list(params.keys())"
   ]
  },
  {
   "cell_type": "code",
   "execution_count": 43,
   "metadata": {},
   "outputs": [
    {
     "data": {
      "text/plain": [
       "['.kernel.variance',\n",
       " '.kernel.lengthscales',\n",
       " '.likelihood.invlink.epsilon',\n",
       " '.num_data',\n",
       " '.q_mu',\n",
       " '.q_sqrt']"
      ]
     },
     "execution_count": 43,
     "metadata": {},
     "output_type": "execute_result"
    }
   ],
   "source": [
    "keys"
   ]
  },
  {
   "cell_type": "code",
   "execution_count": 74,
   "metadata": {},
   "outputs": [
    {
     "data": {
      "text/plain": [
       "<HDF5 dataset \"kernel_variance\": shape (), type \"<f8\">"
      ]
     },
     "execution_count": 74,
     "metadata": {},
     "output_type": "execute_result"
    }
   ],
   "source": [
    "f.create_dataset(\"kernel_variance\", data=params[keys[0]])"
   ]
  },
  {
   "cell_type": "code",
   "execution_count": 75,
   "metadata": {},
   "outputs": [
    {
     "data": {
      "text/plain": [
       "<HDF5 dataset \"kernel_lengthscales\": shape (), type \"<f8\">"
      ]
     },
     "execution_count": 75,
     "metadata": {},
     "output_type": "execute_result"
    }
   ],
   "source": [
    "f.create_dataset(\"kernel_lengthscales\", data=params[keys[1]])"
   ]
  },
  {
   "cell_type": "code",
   "execution_count": 76,
   "metadata": {},
   "outputs": [
    {
     "data": {
      "text/plain": [
       "<HDF5 dataset \"epsilon\": shape (), type \"<f8\">"
      ]
     },
     "execution_count": 76,
     "metadata": {},
     "output_type": "execute_result"
    }
   ],
   "source": [
    "f.create_dataset(\"epsilon\", data=params[keys[2]])"
   ]
  },
  {
   "cell_type": "code",
   "execution_count": 77,
   "metadata": {},
   "outputs": [
    {
     "data": {
      "text/plain": [
       "<HDF5 dataset \"num_data\": shape (), type \"<i4\">"
      ]
     },
     "execution_count": 77,
     "metadata": {},
     "output_type": "execute_result"
    }
   ],
   "source": [
    "f.create_dataset(\"num_data\", data=params[keys[3]])"
   ]
  },
  {
   "cell_type": "code",
   "execution_count": 78,
   "metadata": {},
   "outputs": [
    {
     "data": {
      "text/plain": [
       "<HDF5 dataset \"q_mu\": shape (11, 3), type \"<f8\">"
      ]
     },
     "execution_count": 78,
     "metadata": {},
     "output_type": "execute_result"
    }
   ],
   "source": [
    "f.create_dataset(\"q_mu\", data=params[keys[4]])"
   ]
  },
  {
   "cell_type": "code",
   "execution_count": 79,
   "metadata": {},
   "outputs": [
    {
     "data": {
      "text/plain": [
       "<HDF5 dataset \"q_sqrt\": shape (3, 11, 11), type \"<f8\">"
      ]
     },
     "execution_count": 79,
     "metadata": {},
     "output_type": "execute_result"
    }
   ],
   "source": [
    "f.create_dataset(\"q_sqrt\", data=params[keys[5]])"
   ]
  },
  {
   "cell_type": "code",
   "execution_count": 94,
   "metadata": {},
   "outputs": [
    {
     "data": {
      "text/plain": [
       "gpflow.kernels.stationaries.SquaredExponential"
      ]
     },
     "execution_count": 94,
     "metadata": {},
     "output_type": "execute_result"
    }
   ],
   "source": [
    "classification_method.model.kernel.__class__"
   ]
  },
  {
   "cell_type": "code",
   "execution_count": 88,
   "metadata": {},
   "outputs": [
    {
     "data": {
      "text/plain": [
       "b'SquaredExponential'"
      ]
     },
     "execution_count": 88,
     "metadata": {},
     "output_type": "execute_result"
    }
   ],
   "source": [
    "f.get(\"kernel\")[()]"
   ]
  },
  {
   "cell_type": "code",
   "execution_count": 98,
   "metadata": {},
   "outputs": [
    {
     "data": {
      "text/plain": [
       "<HDF5 group \"/kernel\" (0 members)>"
      ]
     },
     "execution_count": 98,
     "metadata": {},
     "output_type": "execute_result"
    }
   ],
   "source": [
    "f.create_group(\"kernel\")"
   ]
  },
  {
   "cell_type": "code",
   "execution_count": 99,
   "metadata": {},
   "outputs": [
    {
     "data": {
      "text/plain": [
       "<HDF5 dataset \"variance\": shape (), type \"<f8\">"
      ]
     },
     "execution_count": 99,
     "metadata": {},
     "output_type": "execute_result"
    }
   ],
   "source": [
    "f.create_dataset(\"kernel/variance\", data=classification_method.model.kernel.variance)"
   ]
  },
  {
   "cell_type": "code",
   "execution_count": 100,
   "metadata": {},
   "outputs": [
    {
     "data": {
      "text/plain": [
       "<HDF5 dataset \"lengthscales\": shape (), type \"<f8\">"
      ]
     },
     "execution_count": 100,
     "metadata": {},
     "output_type": "execute_result"
    }
   ],
   "source": [
    "f.create_dataset(\"kernel/lengthscales\", data=classification_method.model.kernel.lengthscales)"
   ]
  },
  {
   "cell_type": "code",
   "execution_count": 102,
   "metadata": {},
   "outputs": [
    {
     "data": {
      "text/plain": [
       "'SquaredExponential'"
      ]
     },
     "execution_count": 102,
     "metadata": {},
     "output_type": "execute_result"
    }
   ],
   "source": [
    "classification_method.model.kernel.__class__.__name__"
   ]
  },
  {
   "cell_type": "code",
   "execution_count": 103,
   "metadata": {},
   "outputs": [
    {
     "data": {
      "text/plain": [
       "<HDF5 dataset \"name\": shape (), type \"|O\">"
      ]
     },
     "execution_count": 103,
     "metadata": {},
     "output_type": "execute_result"
    }
   ],
   "source": [
    "f.create_dataset(\"kernel/name\", data=classification_method.model.kernel.__class__.__name__)"
   ]
  },
  {
   "cell_type": "code",
   "execution_count": 104,
   "metadata": {},
   "outputs": [],
   "source": [
    "f.close()"
   ]
  },
  {
   "cell_type": "code",
   "execution_count": null,
   "metadata": {},
   "outputs": [],
   "source": []
  },
  {
   "cell_type": "code",
   "execution_count": 62,
   "metadata": {},
   "outputs": [],
   "source": [
    "test = load_test.q_mu._pretransformed_input"
   ]
  },
  {
   "cell_type": "code",
   "execution_count": 38,
   "metadata": {},
   "outputs": [],
   "source": [
    "testq = load_test.q_sqrt"
   ]
  },
  {
   "cell_type": "code",
   "execution_count": 71,
   "metadata": {},
   "outputs": [],
   "source": [
    "s = testq._pretransformed_input.name.split(\":\")[0]"
   ]
  },
  {
   "cell_type": "code",
   "execution_count": 39,
   "metadata": {},
   "outputs": [],
   "source": [
    "triang = tfp.math.fill_triangular(testq._pretransformed_input.numpy())"
   ]
  },
  {
   "cell_type": "code",
   "execution_count": null,
   "metadata": {},
   "outputs": [],
   "source": [
    "tfp.bijectors.FillTriangular()"
   ]
  },
  {
   "cell_type": "code",
   "execution_count": 40,
   "metadata": {},
   "outputs": [
    {
     "data": {
      "text/plain": [
       "<Parameter: name=fill_triangular, dtype=float64, shape=[3, 11, 11], fn=\"fill_triangular\", numpy=\n",
       "array([[[ 4.02196142e-01,  0.00000000e+00,  0.00000000e+00,\n",
       "          0.00000000e+00,  0.00000000e+00,  0.00000000e+00,\n",
       "          0.00000000e+00,  0.00000000e+00,  0.00000000e+00,\n",
       "          0.00000000e+00,  0.00000000e+00],\n",
       "        [-3.52554867e-01,  6.07075190e-01,  0.00000000e+00,\n",
       "          0.00000000e+00,  0.00000000e+00,  0.00000000e+00,\n",
       "          0.00000000e+00,  0.00000000e+00,  0.00000000e+00,\n",
       "          0.00000000e+00,  0.00000000e+00],\n",
       "        [ 4.11877934e-03, -7.50355823e-02,  6.02248886e-01,\n",
       "          0.00000000e+00,  0.00000000e+00,  0.00000000e+00,\n",
       "          0.00000000e+00,  0.00000000e+00,  0.00000000e+00,\n",
       "          0.00000000e+00,  0.00000000e+00],\n",
       "        [-2.57246571e-01, -2.22264903e-01, -3.44871317e-02,\n",
       "          6.25217283e-01,  0.00000000e+00,  0.00000000e+00,\n",
       "          0.00000000e+00,  0.00000000e+00,  0.00000000e+00,\n",
       "          0.00000000e+00,  0.00000000e+00],\n",
       "        [-1.01453350e-02, -9.49242821e-02, -2.22474234e-01,\n",
       "         -7.86908662e-02,  6.79579982e-01,  0.00000000e+00,\n",
       "          0.00000000e+00,  0.00000000e+00,  0.00000000e+00,\n",
       "          0.00000000e+00,  0.00000000e+00],\n",
       "        [-2.22964464e-01, -1.22405242e-01,  1.68283847e-02,\n",
       "         -1.57987276e-01, -7.38414724e-02,  5.30538646e-01,\n",
       "          0.00000000e+00,  0.00000000e+00,  0.00000000e+00,\n",
       "          0.00000000e+00,  0.00000000e+00],\n",
       "        [-7.41531424e-04, -1.28516603e-01, -1.12848284e-01,\n",
       "         -2.38651136e-02, -9.54673295e-02,  2.73454698e-02,\n",
       "          6.63146885e-01,  0.00000000e+00,  0.00000000e+00,\n",
       "          0.00000000e+00,  0.00000000e+00],\n",
       "        [ 5.98252132e-03,  8.55944693e-04, -1.40934187e-01,\n",
       "          3.83933198e-03, -1.22108833e-02,  4.91144391e-03,\n",
       "         -1.22413822e-01,  8.16580233e-01,  0.00000000e+00,\n",
       "          0.00000000e+00,  0.00000000e+00],\n",
       "        [-1.34503653e-02, -5.89517839e-02,  2.20368772e-02,\n",
       "         -5.73544161e-03,  1.38244598e-02,  1.38320019e-02,\n",
       "         -1.73554279e-01, -2.59359078e-02,  7.87724700e-01,\n",
       "          0.00000000e+00,  0.00000000e+00],\n",
       "        [ 3.39761235e-03, -5.59190680e-04, -1.72524011e-01,\n",
       "         -5.81501201e-04, -4.73171950e-02,  3.28137430e-03,\n",
       "         -3.07010758e-02, -6.41455594e-02,  1.17392290e-02,\n",
       "          8.63014858e-01,  0.00000000e+00],\n",
       "        [-1.02722841e-01, -7.51789354e-02,  1.58593260e-03,\n",
       "         -3.66861530e-02,  3.97687021e-02, -1.26866619e-02,\n",
       "         -7.74472664e-03,  6.24301530e-03, -3.27442789e-02,\n",
       "         -2.56326230e-03,  8.09645709e-01]],\n",
       "\n",
       "       [[ 3.54451347e-01,  0.00000000e+00,  0.00000000e+00,\n",
       "          0.00000000e+00,  0.00000000e+00,  0.00000000e+00,\n",
       "          0.00000000e+00,  0.00000000e+00,  0.00000000e+00,\n",
       "          0.00000000e+00,  0.00000000e+00],\n",
       "        [-3.44036768e-01,  4.95169094e-01,  0.00000000e+00,\n",
       "          0.00000000e+00,  0.00000000e+00,  0.00000000e+00,\n",
       "          0.00000000e+00,  0.00000000e+00,  0.00000000e+00,\n",
       "          0.00000000e+00,  0.00000000e+00],\n",
       "        [ 6.70972402e-03, -5.64592697e-02,  6.64321143e-01,\n",
       "          0.00000000e+00,  0.00000000e+00,  0.00000000e+00,\n",
       "          0.00000000e+00,  0.00000000e+00,  0.00000000e+00,\n",
       "          0.00000000e+00,  0.00000000e+00],\n",
       "        [-2.19602254e-01, -1.84988528e-01, -3.42333514e-02,\n",
       "          6.04732253e-01,  0.00000000e+00,  0.00000000e+00,\n",
       "          0.00000000e+00,  0.00000000e+00,  0.00000000e+00,\n",
       "          0.00000000e+00,  0.00000000e+00],\n",
       "        [ 6.22788834e-03, -5.45266347e-02, -1.99674341e-01,\n",
       "         -5.64899317e-02,  7.56765659e-01,  0.00000000e+00,\n",
       "          0.00000000e+00,  0.00000000e+00,  0.00000000e+00,\n",
       "          0.00000000e+00,  0.00000000e+00],\n",
       "        [-1.42937294e-01, -7.48209732e-02,  1.22438057e-02,\n",
       "         -1.14927317e-01, -5.74413121e-02,  6.87358303e-01,\n",
       "          0.00000000e+00,  0.00000000e+00,  0.00000000e+00,\n",
       "          0.00000000e+00,  0.00000000e+00],\n",
       "        [ 3.50779311e-03, -7.76332269e-02, -1.20132098e-01,\n",
       "         -1.31692287e-02, -5.51476233e-02,  2.88859254e-02,\n",
       "          7.84728785e-01,  0.00000000e+00,  0.00000000e+00,\n",
       "          0.00000000e+00,  0.00000000e+00],\n",
       "        [ 9.33964470e-03, -6.97550692e-03, -2.14207562e-01,\n",
       "          3.38945598e-03, -2.37757373e-02,  1.02149826e-02,\n",
       "         -2.18465039e-01,  6.84968155e-01,  0.00000000e+00,\n",
       "          0.00000000e+00,  0.00000000e+00],\n",
       "        [-9.51748491e-03, -6.99767193e-02,  2.59840650e-02,\n",
       "         -9.52766750e-03,  3.45415758e-03,  2.43396474e-02,\n",
       "         -2.56345162e-01, -2.85155502e-02,  7.22677729e-01,\n",
       "          0.00000000e+00,  0.00000000e+00],\n",
       "        [ 1.48841743e-03, -4.13353553e-03, -1.41255535e-01,\n",
       "         -2.03087402e-03, -4.04465033e-02,  3.16468136e-03,\n",
       "         -2.34092660e-02, -4.01236495e-02,  7.74949609e-03,\n",
       "          8.99919275e-01,  0.00000000e+00],\n",
       "        [-1.58850767e-01, -1.10311593e-01,  6.34762406e-03,\n",
       "         -6.48475832e-02,  7.90761356e-02, -3.03752770e-02,\n",
       "         -1.38491543e-02,  1.00476120e-02, -5.51667642e-02,\n",
       "         -4.93241036e-03,  6.05934326e-01]],\n",
       "\n",
       "       [[-3.12687958e-01,  0.00000000e+00,  0.00000000e+00,\n",
       "          0.00000000e+00,  0.00000000e+00,  0.00000000e+00,\n",
       "          0.00000000e+00,  0.00000000e+00,  0.00000000e+00,\n",
       "          0.00000000e+00,  0.00000000e+00],\n",
       "        [ 2.92773594e-01,  5.63632839e-01,  0.00000000e+00,\n",
       "          0.00000000e+00,  0.00000000e+00,  0.00000000e+00,\n",
       "          0.00000000e+00,  0.00000000e+00,  0.00000000e+00,\n",
       "          0.00000000e+00,  0.00000000e+00],\n",
       "        [-3.26500467e-03, -6.36417862e-02,  7.17968237e-01,\n",
       "          0.00000000e+00,  0.00000000e+00,  0.00000000e+00,\n",
       "          0.00000000e+00,  0.00000000e+00,  0.00000000e+00,\n",
       "          0.00000000e+00,  0.00000000e+00],\n",
       "        [ 2.19463899e-01, -2.33524850e-01, -3.63989262e-02,\n",
       "          5.24185017e-01,  0.00000000e+00,  0.00000000e+00,\n",
       "          0.00000000e+00,  0.00000000e+00,  0.00000000e+00,\n",
       "          0.00000000e+00,  0.00000000e+00],\n",
       "        [-2.50305829e-03, -5.96825245e-02, -1.87300107e-01,\n",
       "         -4.77113366e-02,  7.87766596e-01,  0.00000000e+00,\n",
       "          0.00000000e+00,  0.00000000e+00,  0.00000000e+00,\n",
       "          0.00000000e+00,  0.00000000e+00],\n",
       "        [ 1.51389827e-01, -1.01904398e-01,  9.54315716e-03,\n",
       "         -1.23940117e-01, -7.76630077e-02,  5.83815253e-01,\n",
       "          0.00000000e+00,  0.00000000e+00,  0.00000000e+00,\n",
       "          0.00000000e+00,  0.00000000e+00],\n",
       "        [-1.48177056e-03, -9.52403780e-02, -1.18025197e-01,\n",
       "         -1.66405906e-02, -7.73524357e-02,  2.33029101e-02,\n",
       "          7.58409381e-01,  0.00000000e+00,  0.00000000e+00,\n",
       "          0.00000000e+00,  0.00000000e+00],\n",
       "        [-5.80687206e-03, -4.18726633e-03, -1.45600327e-01,\n",
       "          2.42119351e-03, -1.40106221e-02,  5.86884896e-03,\n",
       "         -1.27782652e-01,  8.28814396e-01,  0.00000000e+00,\n",
       "          0.00000000e+00,  0.00000000e+00],\n",
       "        [ 1.20917700e-02, -5.18500112e-02,  1.35218701e-02,\n",
       "         -6.87050698e-03,  9.13263586e-03,  1.16630662e-02,\n",
       "         -1.51219867e-01, -1.98725354e-02,  8.43395648e-01,\n",
       "          0.00000000e+00,  0.00000000e+00],\n",
       "        [-7.42882638e-04, -3.13363951e-03, -9.85718605e-02,\n",
       "         -1.21520807e-03, -2.56275651e-02,  1.66577811e-03,\n",
       "         -1.63324533e-02, -2.97954113e-02,  5.43009194e-03,\n",
       "          9.39566214e-01,  0.00000000e+00],\n",
       "        [ 1.27522499e-01, -1.13477338e-01,  1.01278788e-02,\n",
       "         -5.03538346e-02,  7.63574675e-02, -2.29676426e-02,\n",
       "         -1.81575903e-02,  1.00174078e-02, -5.89106797e-02,\n",
       "         -4.71062717e-03,  6.48659625e-01]]])>"
      ]
     },
     "execution_count": 40,
     "metadata": {},
     "output_type": "execute_result"
    }
   ],
   "source": [
    "gpflow.base.Parameter(value=triang, transform=gpflow.utilities.triangular())"
   ]
  },
  {
   "cell_type": "code",
   "execution_count": 41,
   "metadata": {},
   "outputs": [
    {
     "data": {
      "text/plain": [
       "<Parameter: name=fill_triangular, dtype=float64, shape=[3, 11, 11], fn=\"fill_triangular\", numpy=\n",
       "array([[[ 4.02196142e-01,  0.00000000e+00,  0.00000000e+00,\n",
       "          0.00000000e+00,  0.00000000e+00,  0.00000000e+00,\n",
       "          0.00000000e+00,  0.00000000e+00,  0.00000000e+00,\n",
       "          0.00000000e+00,  0.00000000e+00],\n",
       "        [-3.52554867e-01,  6.07075190e-01,  0.00000000e+00,\n",
       "          0.00000000e+00,  0.00000000e+00,  0.00000000e+00,\n",
       "          0.00000000e+00,  0.00000000e+00,  0.00000000e+00,\n",
       "          0.00000000e+00,  0.00000000e+00],\n",
       "        [ 4.11877934e-03, -7.50355823e-02,  6.02248886e-01,\n",
       "          0.00000000e+00,  0.00000000e+00,  0.00000000e+00,\n",
       "          0.00000000e+00,  0.00000000e+00,  0.00000000e+00,\n",
       "          0.00000000e+00,  0.00000000e+00],\n",
       "        [-2.57246571e-01, -2.22264903e-01, -3.44871317e-02,\n",
       "          6.25217283e-01,  0.00000000e+00,  0.00000000e+00,\n",
       "          0.00000000e+00,  0.00000000e+00,  0.00000000e+00,\n",
       "          0.00000000e+00,  0.00000000e+00],\n",
       "        [-1.01453350e-02, -9.49242821e-02, -2.22474234e-01,\n",
       "         -7.86908662e-02,  6.79579982e-01,  0.00000000e+00,\n",
       "          0.00000000e+00,  0.00000000e+00,  0.00000000e+00,\n",
       "          0.00000000e+00,  0.00000000e+00],\n",
       "        [-2.22964464e-01, -1.22405242e-01,  1.68283847e-02,\n",
       "         -1.57987276e-01, -7.38414724e-02,  5.30538646e-01,\n",
       "          0.00000000e+00,  0.00000000e+00,  0.00000000e+00,\n",
       "          0.00000000e+00,  0.00000000e+00],\n",
       "        [-7.41531424e-04, -1.28516603e-01, -1.12848284e-01,\n",
       "         -2.38651136e-02, -9.54673295e-02,  2.73454698e-02,\n",
       "          6.63146885e-01,  0.00000000e+00,  0.00000000e+00,\n",
       "          0.00000000e+00,  0.00000000e+00],\n",
       "        [ 5.98252132e-03,  8.55944693e-04, -1.40934187e-01,\n",
       "          3.83933198e-03, -1.22108833e-02,  4.91144391e-03,\n",
       "         -1.22413822e-01,  8.16580233e-01,  0.00000000e+00,\n",
       "          0.00000000e+00,  0.00000000e+00],\n",
       "        [-1.34503653e-02, -5.89517839e-02,  2.20368772e-02,\n",
       "         -5.73544161e-03,  1.38244598e-02,  1.38320019e-02,\n",
       "         -1.73554279e-01, -2.59359078e-02,  7.87724700e-01,\n",
       "          0.00000000e+00,  0.00000000e+00],\n",
       "        [ 3.39761235e-03, -5.59190680e-04, -1.72524011e-01,\n",
       "         -5.81501201e-04, -4.73171950e-02,  3.28137430e-03,\n",
       "         -3.07010758e-02, -6.41455594e-02,  1.17392290e-02,\n",
       "          8.63014858e-01,  0.00000000e+00],\n",
       "        [-1.02722841e-01, -7.51789354e-02,  1.58593260e-03,\n",
       "         -3.66861530e-02,  3.97687021e-02, -1.26866619e-02,\n",
       "         -7.74472664e-03,  6.24301530e-03, -3.27442789e-02,\n",
       "         -2.56326230e-03,  8.09645709e-01]],\n",
       "\n",
       "       [[ 3.54451347e-01,  0.00000000e+00,  0.00000000e+00,\n",
       "          0.00000000e+00,  0.00000000e+00,  0.00000000e+00,\n",
       "          0.00000000e+00,  0.00000000e+00,  0.00000000e+00,\n",
       "          0.00000000e+00,  0.00000000e+00],\n",
       "        [-3.44036768e-01,  4.95169094e-01,  0.00000000e+00,\n",
       "          0.00000000e+00,  0.00000000e+00,  0.00000000e+00,\n",
       "          0.00000000e+00,  0.00000000e+00,  0.00000000e+00,\n",
       "          0.00000000e+00,  0.00000000e+00],\n",
       "        [ 6.70972402e-03, -5.64592697e-02,  6.64321143e-01,\n",
       "          0.00000000e+00,  0.00000000e+00,  0.00000000e+00,\n",
       "          0.00000000e+00,  0.00000000e+00,  0.00000000e+00,\n",
       "          0.00000000e+00,  0.00000000e+00],\n",
       "        [-2.19602254e-01, -1.84988528e-01, -3.42333514e-02,\n",
       "          6.04732253e-01,  0.00000000e+00,  0.00000000e+00,\n",
       "          0.00000000e+00,  0.00000000e+00,  0.00000000e+00,\n",
       "          0.00000000e+00,  0.00000000e+00],\n",
       "        [ 6.22788834e-03, -5.45266347e-02, -1.99674341e-01,\n",
       "         -5.64899317e-02,  7.56765659e-01,  0.00000000e+00,\n",
       "          0.00000000e+00,  0.00000000e+00,  0.00000000e+00,\n",
       "          0.00000000e+00,  0.00000000e+00],\n",
       "        [-1.42937294e-01, -7.48209732e-02,  1.22438057e-02,\n",
       "         -1.14927317e-01, -5.74413121e-02,  6.87358303e-01,\n",
       "          0.00000000e+00,  0.00000000e+00,  0.00000000e+00,\n",
       "          0.00000000e+00,  0.00000000e+00],\n",
       "        [ 3.50779311e-03, -7.76332269e-02, -1.20132098e-01,\n",
       "         -1.31692287e-02, -5.51476233e-02,  2.88859254e-02,\n",
       "          7.84728785e-01,  0.00000000e+00,  0.00000000e+00,\n",
       "          0.00000000e+00,  0.00000000e+00],\n",
       "        [ 9.33964470e-03, -6.97550692e-03, -2.14207562e-01,\n",
       "          3.38945598e-03, -2.37757373e-02,  1.02149826e-02,\n",
       "         -2.18465039e-01,  6.84968155e-01,  0.00000000e+00,\n",
       "          0.00000000e+00,  0.00000000e+00],\n",
       "        [-9.51748491e-03, -6.99767193e-02,  2.59840650e-02,\n",
       "         -9.52766750e-03,  3.45415758e-03,  2.43396474e-02,\n",
       "         -2.56345162e-01, -2.85155502e-02,  7.22677729e-01,\n",
       "          0.00000000e+00,  0.00000000e+00],\n",
       "        [ 1.48841743e-03, -4.13353553e-03, -1.41255535e-01,\n",
       "         -2.03087402e-03, -4.04465033e-02,  3.16468136e-03,\n",
       "         -2.34092660e-02, -4.01236495e-02,  7.74949609e-03,\n",
       "          8.99919275e-01,  0.00000000e+00],\n",
       "        [-1.58850767e-01, -1.10311593e-01,  6.34762406e-03,\n",
       "         -6.48475832e-02,  7.90761356e-02, -3.03752770e-02,\n",
       "         -1.38491543e-02,  1.00476120e-02, -5.51667642e-02,\n",
       "         -4.93241036e-03,  6.05934326e-01]],\n",
       "\n",
       "       [[-3.12687958e-01,  0.00000000e+00,  0.00000000e+00,\n",
       "          0.00000000e+00,  0.00000000e+00,  0.00000000e+00,\n",
       "          0.00000000e+00,  0.00000000e+00,  0.00000000e+00,\n",
       "          0.00000000e+00,  0.00000000e+00],\n",
       "        [ 2.92773594e-01,  5.63632839e-01,  0.00000000e+00,\n",
       "          0.00000000e+00,  0.00000000e+00,  0.00000000e+00,\n",
       "          0.00000000e+00,  0.00000000e+00,  0.00000000e+00,\n",
       "          0.00000000e+00,  0.00000000e+00],\n",
       "        [-3.26500467e-03, -6.36417862e-02,  7.17968237e-01,\n",
       "          0.00000000e+00,  0.00000000e+00,  0.00000000e+00,\n",
       "          0.00000000e+00,  0.00000000e+00,  0.00000000e+00,\n",
       "          0.00000000e+00,  0.00000000e+00],\n",
       "        [ 2.19463899e-01, -2.33524850e-01, -3.63989262e-02,\n",
       "          5.24185017e-01,  0.00000000e+00,  0.00000000e+00,\n",
       "          0.00000000e+00,  0.00000000e+00,  0.00000000e+00,\n",
       "          0.00000000e+00,  0.00000000e+00],\n",
       "        [-2.50305829e-03, -5.96825245e-02, -1.87300107e-01,\n",
       "         -4.77113366e-02,  7.87766596e-01,  0.00000000e+00,\n",
       "          0.00000000e+00,  0.00000000e+00,  0.00000000e+00,\n",
       "          0.00000000e+00,  0.00000000e+00],\n",
       "        [ 1.51389827e-01, -1.01904398e-01,  9.54315716e-03,\n",
       "         -1.23940117e-01, -7.76630077e-02,  5.83815253e-01,\n",
       "          0.00000000e+00,  0.00000000e+00,  0.00000000e+00,\n",
       "          0.00000000e+00,  0.00000000e+00],\n",
       "        [-1.48177056e-03, -9.52403780e-02, -1.18025197e-01,\n",
       "         -1.66405906e-02, -7.73524357e-02,  2.33029101e-02,\n",
       "          7.58409381e-01,  0.00000000e+00,  0.00000000e+00,\n",
       "          0.00000000e+00,  0.00000000e+00],\n",
       "        [-5.80687206e-03, -4.18726633e-03, -1.45600327e-01,\n",
       "          2.42119351e-03, -1.40106221e-02,  5.86884896e-03,\n",
       "         -1.27782652e-01,  8.28814396e-01,  0.00000000e+00,\n",
       "          0.00000000e+00,  0.00000000e+00],\n",
       "        [ 1.20917700e-02, -5.18500112e-02,  1.35218701e-02,\n",
       "         -6.87050698e-03,  9.13263586e-03,  1.16630662e-02,\n",
       "         -1.51219867e-01, -1.98725354e-02,  8.43395648e-01,\n",
       "          0.00000000e+00,  0.00000000e+00],\n",
       "        [-7.42882638e-04, -3.13363951e-03, -9.85718605e-02,\n",
       "         -1.21520807e-03, -2.56275651e-02,  1.66577811e-03,\n",
       "         -1.63324533e-02, -2.97954113e-02,  5.43009194e-03,\n",
       "          9.39566214e-01,  0.00000000e+00],\n",
       "        [ 1.27522499e-01, -1.13477338e-01,  1.01278788e-02,\n",
       "         -5.03538346e-02,  7.63574675e-02, -2.29676426e-02,\n",
       "         -1.81575903e-02,  1.00174078e-02, -5.89106797e-02,\n",
       "         -4.71062717e-03,  6.48659625e-01]]])>"
      ]
     },
     "execution_count": 41,
     "metadata": {},
     "output_type": "execute_result"
    }
   ],
   "source": [
    "gpflow.utilities.parameter_dict(classification_method.model)[\".q_sqrt\"]"
   ]
  },
  {
   "cell_type": "code",
   "execution_count": 77,
   "metadata": {},
   "outputs": [
    {
     "data": {
      "text/plain": [
       "tensorflow_probability.python.bijectors.fill_triangular.FillTriangular"
      ]
     },
     "execution_count": 77,
     "metadata": {},
     "output_type": "execute_result"
    }
   ],
   "source": [
    "tfp.bijectors.FillTriangular"
   ]
  },
  {
   "cell_type": "code",
   "execution_count": 42,
   "metadata": {},
   "outputs": [
    {
     "data": {
      "text/plain": [
       "<Parameter: name=identity, dtype=int32, shape=[], fn=\"identity\", numpy=11>"
      ]
     },
     "execution_count": 42,
     "metadata": {},
     "output_type": "execute_result"
    }
   ],
   "source": [
    "gpflow.utilities.parameter_dict(classification_method.model)[\".num_data\"]"
   ]
  },
  {
   "cell_type": "code",
   "execution_count": 43,
   "metadata": {},
   "outputs": [
    {
     "data": {
      "text/plain": [
       "<Parameter: name=identity, dtype=int32, shape=[], fn=\"identity\", numpy=11>"
      ]
     },
     "execution_count": 43,
     "metadata": {},
     "output_type": "execute_result"
    }
   ],
   "source": [
    "gpflow.base.Parameter(value=load_test.num_data._pretransformed_input.numpy(), dtype=tf.int32)"
   ]
  },
  {
   "cell_type": "code",
   "execution_count": 44,
   "metadata": {},
   "outputs": [
    {
     "data": {
      "text/plain": [
       "<Parameter: name=sigmoid, dtype=float64, shape=[], fn=\"sigmoid\", numpy=0.0010000000000000002>"
      ]
     },
     "execution_count": 44,
     "metadata": {},
     "output_type": "execute_result"
    }
   ],
   "source": [
    "gpflow.utilities.parameter_dict(classification_method.model)[\".likelihood.invlink.epsilon\"]"
   ]
  },
  {
   "cell_type": "code",
   "execution_count": 45,
   "metadata": {},
   "outputs": [
    {
     "data": {
      "text/plain": [
       "<tf.Variable 'sigmoid:0' shape=() dtype=float64, numpy=-6.906754778648553>"
      ]
     },
     "execution_count": 45,
     "metadata": {},
     "output_type": "execute_result"
    }
   ],
   "source": [
    "load_test.likelihood.invlink.epsilon._pretransformed_input"
   ]
  },
  {
   "cell_type": "code",
   "execution_count": 46,
   "metadata": {},
   "outputs": [
    {
     "data": {
      "text/plain": [
       "TensorShape([3, 66])"
      ]
     },
     "execution_count": 46,
     "metadata": {},
     "output_type": "execute_result"
    }
   ],
   "source": [
    "load_test.q_sqrt._pretransformed_input.shape"
   ]
  },
  {
   "cell_type": "code",
   "execution_count": 47,
   "metadata": {},
   "outputs": [
    {
     "data": {
      "text/plain": [
       "<tf.Tensor: shape=(), dtype=float64, numpy=0.0010000000000000002>"
      ]
     },
     "execution_count": 47,
     "metadata": {},
     "output_type": "execute_result"
    }
   ],
   "source": [
    "sig1 = tf.math.sigmoid(load_test.likelihood.invlink.epsilon._pretransformed_input.numpy())\n",
    "sig1"
   ]
  },
  {
   "cell_type": "code",
   "execution_count": 48,
   "metadata": {},
   "outputs": [
    {
     "data": {
      "text/plain": [
       "<Parameter: name=sigmoid, dtype=float64, shape=[], fn=\"sigmoid\", numpy=0.0010000000000000002>"
      ]
     },
     "execution_count": 48,
     "metadata": {},
     "output_type": "execute_result"
    }
   ],
   "source": [
    "gpflow.base.Parameter(value=sig1, transform=tfp.bijectors.Sigmoid())"
   ]
  },
  {
   "cell_type": "code",
   "execution_count": 49,
   "metadata": {},
   "outputs": [
    {
     "data": {
      "text/plain": [
       "<tf.Variable 'softplus:0' shape=() dtype=float64, numpy=-12.468608288239908>"
      ]
     },
     "execution_count": 49,
     "metadata": {},
     "output_type": "execute_result"
    }
   ],
   "source": [
    "load_test.kernel.variance._pretransformed_input"
   ]
  },
  {
   "cell_type": "code",
   "execution_count": 50,
   "metadata": {},
   "outputs": [
    {
     "data": {
      "text/plain": [
       "<tf.Variable 'softplus:0' shape=() dtype=float64, numpy=-1.6290125940203466>"
      ]
     },
     "execution_count": 50,
     "metadata": {},
     "output_type": "execute_result"
    }
   ],
   "source": [
    "load_test.kernel.lengthscales._pretransformed_input"
   ]
  },
  {
   "cell_type": "code",
   "execution_count": 51,
   "metadata": {},
   "outputs": [
    {
     "data": {
      "text/plain": [
       "<tf.Tensor: shape=(), dtype=float64, numpy=3.845487361650802e-06>"
      ]
     },
     "execution_count": 51,
     "metadata": {},
     "output_type": "execute_result"
    }
   ],
   "source": [
    "kv = tf.math.softplus(load_test.kernel.variance._pretransformed_input)\n",
    "kv"
   ]
  },
  {
   "cell_type": "code",
   "execution_count": 52,
   "metadata": {},
   "outputs": [
    {
     "data": {
      "text/plain": [
       "<tf.Tensor: shape=(), dtype=float64, numpy=0.1790856031591021>"
      ]
     },
     "execution_count": 52,
     "metadata": {},
     "output_type": "execute_result"
    }
   ],
   "source": [
    "ls = tf.math.softplus(load_test.kernel.lengthscales._pretransformed_input)\n",
    "ls"
   ]
  },
  {
   "cell_type": "code",
   "execution_count": 53,
   "metadata": {},
   "outputs": [
    {
     "data": {
      "text/plain": [
       "<Parameter: name=softplus, dtype=float64, shape=[], fn=\"softplus\", numpy=3.845487361650802e-06>"
      ]
     },
     "execution_count": 53,
     "metadata": {},
     "output_type": "execute_result"
    }
   ],
   "source": [
    "gpflow.base.Parameter(value=kv, transform=tfp.bijectors.Softplus())"
   ]
  },
  {
   "cell_type": "code",
   "execution_count": 54,
   "metadata": {},
   "outputs": [
    {
     "data": {
      "text/plain": [
       "<Parameter: name=softplus, dtype=float64, shape=[], fn=\"softplus\", numpy=0.1790856031591021>"
      ]
     },
     "execution_count": 54,
     "metadata": {},
     "output_type": "execute_result"
    }
   ],
   "source": [
    "gpflow.base.Parameter(value=ls, transform=tfp.bijectors.Softplus())"
   ]
  },
  {
   "cell_type": "code",
   "execution_count": 55,
   "metadata": {},
   "outputs": [
    {
     "data": {
      "text/plain": [
       "<Parameter: name=softplus, dtype=float64, shape=[], fn=\"softplus\", numpy=0.1790856031591021>"
      ]
     },
     "execution_count": 55,
     "metadata": {},
     "output_type": "execute_result"
    }
   ],
   "source": [
    "gpflow.utilities.parameter_dict(classification_method.model)[\".kernel.lengthscales\"]"
   ]
  },
  {
   "cell_type": "code",
   "execution_count": 56,
   "metadata": {},
   "outputs": [
    {
     "data": {
      "text/plain": [
       "{'_self_setattr_tracking': True,\n",
       " '_self_unconditional_checkpoint_dependencies': [TrackableReference(name=_pretransformed_input, ref=<tf.Variable 'softplus:0' shape=() dtype=float64, numpy=-12.468608288239908>),\n",
       "  TrackableReference(name=_transform_fn, ref=<tensorflow.python.saved_model.load.Loader._recreate_base_user_object.<locals>._UserObject object at 0x7fef4dd342e0>),\n",
       "  TrackableReference(name=_bijector, ref=<tensorflow.python.saved_model.load.Loader._recreate_base_user_object.<locals>._UserObject object at 0x7fef4dd342e0>),\n",
       "  TrackableReference(name=_self_saveable_object_factories, ref={})],\n",
       " '_self_unconditional_dependency_names': {'_pretransformed_input': <tf.Variable 'softplus:0' shape=() dtype=float64, numpy=-12.468608288239908>,\n",
       "  '_transform_fn': <tensorflow.python.saved_model.load.Loader._recreate_base_user_object.<locals>._UserObject at 0x7fef4dd342e0>,\n",
       "  '_bijector': <tensorflow.python.saved_model.load.Loader._recreate_base_user_object.<locals>._UserObject at 0x7fef4dd342e0>,\n",
       "  '_self_saveable_object_factories': {}},\n",
       " '_self_unconditional_deferred_dependencies': {},\n",
       " '_self_update_uid': 7500,\n",
       " '_self_name_based_restores': set(),\n",
       " '_self_saveable_object_factories': {},\n",
       " '_pretransformed_input': <tf.Variable 'softplus:0' shape=() dtype=float64, numpy=-12.468608288239908>,\n",
       " '_transform_fn': <tensorflow.python.saved_model.load.Loader._recreate_base_user_object.<locals>._UserObject at 0x7fef4dd342e0>,\n",
       " '_bijector': <tensorflow.python.saved_model.load.Loader._recreate_base_user_object.<locals>._UserObject at 0x7fef4dd342e0>}"
      ]
     },
     "execution_count": 56,
     "metadata": {},
     "output_type": "execute_result"
    }
   ],
   "source": [
    "load_test.kernel.variance.__dict__"
   ]
  },
  {
   "cell_type": "code",
   "execution_count": 57,
   "metadata": {},
   "outputs": [
    {
     "data": {
      "text/html": [
       "&lt;gpflow.kernels.stationaries.SquaredExponential object at 0x7fefc16e21a0&gt;\n",
       "<table>\n",
       "<thead>\n",
       "<tr><th>name                           </th><th>class    </th><th>transform  </th><th>prior  </th><th>trainable  </th><th>shape  </th><th>dtype  </th><th style=\"text-align: right;\">  value</th></tr>\n",
       "</thead>\n",
       "<tbody>\n",
       "<tr><td>SquaredExponential.variance    </td><td>Parameter</td><td>Softplus   </td><td>       </td><td>True       </td><td>()     </td><td>float64</td><td style=\"text-align: right;\">0      </td></tr>\n",
       "<tr><td>SquaredExponential.lengthscales</td><td>Parameter</td><td>Softplus   </td><td>       </td><td>True       </td><td>()     </td><td>float64</td><td style=\"text-align: right;\">0.17909</td></tr>\n",
       "</tbody>\n",
       "</table>"
      ],
      "text/plain": [
       "<gpflow.kernels.stationaries.SquaredExponential object at 0x7fefc16e21a0>\n",
       "╒═════════════════════════════════╤═══════════╤═════════════╤═════════╤═════════════╤═════════╤═════════╤═════════╕\n",
       "│ name                            │ class     │ transform   │ prior   │ trainable   │ shape   │ dtype   │   value │\n",
       "╞═════════════════════════════════╪═══════════╪═════════════╪═════════╪═════════════╪═════════╪═════════╪═════════╡\n",
       "│ SquaredExponential.variance     │ Parameter │ Softplus    │         │ True        │ ()      │ float64 │ 0       │\n",
       "├─────────────────────────────────┼───────────┼─────────────┼─────────┼─────────────┼─────────┼─────────┼─────────┤\n",
       "│ SquaredExponential.lengthscales │ Parameter │ Softplus    │         │ True        │ ()      │ float64 │ 0.17909 │\n",
       "╘═════════════════════════════════╧═══════════╧═════════════╧═════════╧═════════════╧═════════╧═════════╧═════════╛"
      ]
     },
     "execution_count": 57,
     "metadata": {},
     "output_type": "execute_result"
    }
   ],
   "source": [
    "classification_method.model.kernel"
   ]
  },
  {
   "cell_type": "code",
   "execution_count": null,
   "metadata": {},
   "outputs": [],
   "source": []
  },
  {
   "cell_type": "code",
   "execution_count": 50,
   "metadata": {},
   "outputs": [],
   "source": [
    "mean1, var1 = classification_method.model.predict_y(domain)"
   ]
  },
  {
   "cell_type": "code",
   "execution_count": 52,
   "metadata": {},
   "outputs": [],
   "source": [
    "from matplotlib import pyplot as plt"
   ]
  },
  {
   "cell_type": "code",
   "execution_count": 53,
   "metadata": {},
   "outputs": [
    {
     "data": {
      "text/plain": [
       "<matplotlib.collections.PathCollection at 0x7f70d3ddc490>"
      ]
     },
     "execution_count": 53,
     "metadata": {},
     "output_type": "execute_result"
    },
    {
     "data": {
      "image/png": "[encoded data removed]",
      "text/plain": [
       "<Figure size 640x480 with 1 Axes>"
      ]
     },
     "metadata": {},
     "output_type": "display_data"
    }
   ],
   "source": [
    "plt.scatter(domain[:,0], domain[:,1])"
   ]
  },
  {
   "cell_type": "code",
   "execution_count": 54,
   "metadata": {},
   "outputs": [],
   "source": [
    "classification_method.predict()"
   ]
  },
  {
   "cell_type": "code",
   "execution_count": 55,
   "metadata": {},
   "outputs": [
    {
     "data": {
      "text/html": [
       "&lt;gpflow.models.vgp.VGP object at 0x7f70d4f575e0&gt;\n",
       "<table>\n",
       "<thead>\n",
       "<tr><th>name                          </th><th>class    </th><th>transform     </th><th>prior  </th><th>trainable  </th><th>shape      </th><th>dtype  </th><th>value                                   </th></tr>\n",
       "</thead>\n",
       "<tbody>\n",
       "<tr><td>VGP.kernel.variance           </td><td>Parameter</td><td>Softplus      </td><td>       </td><td>True       </td><td>()         </td><td>float64</td><td>0.0                                     </td></tr>\n",
       "<tr><td>VGP.kernel.lengthscales       </td><td>Parameter</td><td>Softplus      </td><td>       </td><td>True       </td><td>()         </td><td>float64</td><td>0.17909                                 </td></tr>\n",
       "<tr><td>VGP.likelihood.invlink.epsilon</td><td>Parameter</td><td>Sigmoid       </td><td>Beta   </td><td>False      </td><td>()         </td><td>float64</td><td>0.001                                   </td></tr>\n",
       "<tr><td>VGP.num_data                  </td><td>Parameter</td><td>Identity      </td><td>       </td><td>False      </td><td>()         </td><td>int32  </td><td>11                                      </td></tr>\n",
       "<tr><td>VGP.q_mu                      </td><td>Parameter</td><td>Identity      </td><td>       </td><td>True       </td><td>(11, 3)    </td><td>float64</td><td>[[-0.3779, -0.22553, 0.60329...         </td></tr>\n",
       "<tr><td>VGP.q_sqrt                    </td><td>Parameter</td><td>FillTriangular</td><td>       </td><td>True       </td><td>(3, 11, 11)</td><td>float64</td><td>[[[4.0208e-01, 0.0000e+00, 0.0000e+00...</td></tr>\n",
       "</tbody>\n",
       "</table>"
      ],
      "text/plain": [
       "<gpflow.models.vgp.VGP object at 0x7f70d4f575e0>\n",
       "╒════════════════════════════════╤═══════════╤════════════════╤═════════╤═════════════╤═════════════╤═════════╤══════════════════════════════════════════╕\n",
       "│ name                           │ class     │ transform      │ prior   │ trainable   │ shape       │ dtype   │ value                                    │\n",
       "╞════════════════════════════════╪═══════════╪════════════════╪═════════╪═════════════╪═════════════╪═════════╪══════════════════════════════════════════╡\n",
       "│ VGP.kernel.variance            │ Parameter │ Softplus       │         │ True        │ ()          │ float64 │ 0.0                                      │\n",
       "├────────────────────────────────┼───────────┼────────────────┼─────────┼─────────────┼─────────────┼─────────┼──────────────────────────────────────────┤\n",
       "│ VGP.kernel.lengthscales        │ Parameter │ Softplus       │         │ True        │ ()          │ float64 │ 0.17909                                  │\n",
       "├────────────────────────────────┼───────────┼────────────────┼─────────┼─────────────┼─────────────┼─────────┼──────────────────────────────────────────┤\n",
       "│ VGP.likelihood.invlink.epsilon │ Parameter │ Sigmoid        │ Beta    │ False       │ ()          │ float64 │ 0.001                                    │\n",
       "├────────────────────────────────┼───────────┼────────────────┼─────────┼─────────────┼─────────────┼─────────┼──────────────────────────────────────────┤\n",
       "│ VGP.num_data                   │ Parameter │ Identity       │         │ False       │ ()          │ int32   │ 11                                       │\n",
       "├────────────────────────────────┼───────────┼────────────────┼─────────┼─────────────┼─────────────┼─────────┼──────────────────────────────────────────┤\n",
       "│ VGP.q_mu                       │ Parameter │ Identity       │         │ True        │ (11, 3)     │ float64 │ [[-0.3779, -0.22553, 0.60329...          │\n",
       "├────────────────────────────────┼───────────┼────────────────┼─────────┼─────────────┼─────────────┼─────────┼──────────────────────────────────────────┤\n",
       "│ VGP.q_sqrt                     │ Parameter │ FillTriangular │         │ True        │ (3, 11, 11) │ float64 │ [[[4.0208e-01, 0.0000e+00, 0.0000e+00... │\n",
       "╘════════════════════════════════╧═══════════╧════════════════╧═════════╧═════════════╧═════════════╧═════════╧══════════════════════════════════════════╛"
      ]
     },
     "execution_count": 55,
     "metadata": {},
     "output_type": "execute_result"
    }
   ],
   "source": [
    "classification_method.model"
   ]
  },
  {
   "cell_type": "code",
   "execution_count": 56,
   "metadata": {},
   "outputs": [],
   "source": [
    "c = np.zeros((172,2))*np.NaN\n",
    "n = domain[0:5,:]\n",
    "s = np.concatenate((n,c), axis=0)"
   ]
  },
  {
   "cell_type": "code",
   "execution_count": 57,
   "metadata": {},
   "outputs": [],
   "source": [
    "mean1, var1 = classification_method.model.predict_y(s)"
   ]
  },
  {
   "cell_type": "code",
   "execution_count": 58,
   "metadata": {},
   "outputs": [],
   "source": [
    "mean2, var2 = load_test.compiled_predict_y(n)"
   ]
  },
  {
   "cell_type": "code",
   "execution_count": 59,
   "metadata": {},
   "outputs": [
    {
     "data": {
      "text/plain": [
       "tuple"
      ]
     },
     "execution_count": 59,
     "metadata": {},
     "output_type": "execute_result"
    }
   ],
   "source": [
    "type(load_test.compiled_predict_y(n))"
   ]
  },
  {
   "cell_type": "code",
   "execution_count": 62,
   "metadata": {},
   "outputs": [
    {
     "data": {
      "text/plain": [
       "<tensorflow.python.saved_model.load.Loader._recreate_base_user_object.<locals>._UserObject at 0x7f70d3eafe80>"
      ]
     },
     "execution_count": 62,
     "metadata": {},
     "output_type": "execute_result"
    }
   ],
   "source": [
    "load_test.kernel"
   ]
  },
  {
   "cell_type": "code",
   "execution_count": null,
   "metadata": {},
   "outputs": [],
   "source": []
  },
  {
   "cell_type": "code",
   "execution_count": null,
   "metadata": {},
   "outputs": [],
   "source": []
  },
  {
   "cell_type": "code",
   "execution_count": null,
   "metadata": {},
   "outputs": [],
   "source": []
  },
  {
   "cell_type": "code",
   "execution_count": 36,
   "metadata": {},
   "outputs": [
    {
     "data": {
      "text/plain": [
       "531"
      ]
     },
     "execution_count": 36,
     "metadata": {},
     "output_type": "execute_result"
    }
   ],
   "source": [
    "np.sum(mean1 != mean2)"
   ]
  },
  {
   "cell_type": "code",
   "execution_count": 37,
   "metadata": {},
   "outputs": [
    {
     "data": {
      "text/plain": [
       "0"
      ]
     },
     "execution_count": 37,
     "metadata": {},
     "output_type": "execute_result"
    }
   ],
   "source": [
    "np.sum(mean1 == mean2)"
   ]
  },
  {
   "cell_type": "code",
   "execution_count": null,
   "metadata": {},
   "outputs": [],
   "source": []
  }
 ],
 "metadata": {
  "kernelspec": {
   "display_name": "hermes",
   "language": "python",
   "name": "python3"
  },
  "language_info": {
   "codemirror_mode": {
    "name": "ipython",
    "version": 3
   },
   "file_extension": ".py",
   "mimetype": "text/x-python",
   "name": "python",
   "nbconvert_exporter": "python",
   "pygments_lexer": "ipython3",
   "version": "3.10.13"
  }
 },
 "nbformat": 4,
 "nbformat_minor": 2
}
