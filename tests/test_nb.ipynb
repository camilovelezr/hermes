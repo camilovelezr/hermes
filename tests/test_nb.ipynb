{
 "cells": [
  {
   "cell_type": "code",
   "execution_count": 6,
   "metadata": {},
   "outputs": [],
   "source": [
    "# type: ignore\n",
    "from dataclasses import dataclass\n",
    "from pathlib import Path\n",
    "\n",
    "import networkx as nx\n",
    "import numpy as np\n",
    "import pandas as pd\n",
    "import tensorflow as tf\n",
    "import pytest\n",
    "import os\n",
    "\n",
    "import hermes\n",
    "\n",
    "np.random.seed(42)\n",
    "tf.random.set_seed(42)\n",
    "\n",
    "SIM_LOAD_DIR = Path(\"\").absolute().joinpath(\"resources\")\n",
    "WAFER_COORDS_FILE = \"XY_Coordinates_177.txt\"\n",
    "WAFER_COMPOSITION_FILE = \"CombiView_Format_GeSbTe_Composition.txt\"\n",
    "WAFER_XRD_FILE = (\n",
    "    \"GeSbTe_XRD_MetaStable_Background subtracted and with normalization.txt\"\n",
    ")\n",
    "\n",
    "instrument = hermes.instruments.CHESSQM2Beamline(\n",
    "    simulation=True,\n",
    "    wafer_directory=SIM_LOAD_DIR,\n",
    "    wafer_coords_file=WAFER_COORDS_FILE,\n",
    "    wafer_composition_file=WAFER_COMPOSITION_FILE,\n",
    "    wafer_xrd_file=WAFER_XRD_FILE,\n",
    "    sample_name=\"This is a great name\",\n",
    ")"
   ]
  },
  {
   "cell_type": "code",
   "execution_count": 7,
   "metadata": {},
   "outputs": [],
   "source": [
    "@dataclass\n",
    "class RandomStart:\n",
    "    domain: np.ndarray\n",
    "    start_measurements: int\n",
    "\n",
    "    def initialize(self):\n",
    "        indexes = np.arange(0, self.domain.shape[0])\n",
    "        permute = np.random.permutation(indexes)\n",
    "\n",
    "        next_indexes = permute[0 : self.start_measurements]\n",
    "\n",
    "        return next_indexes"
   ]
  },
  {
   "cell_type": "code",
   "execution_count": 8,
   "metadata": {},
   "outputs": [],
   "source": [
    "\n",
    "domain_2d = instrument.composition_domain_2d\n",
    "domain_3d = instrument.composition_domain[1]\n",
    "start_measurements = 11\n",
    "initialization_method = RandomStart(instrument.composition_domain_2d, start_measurements)\n",
    "next_indexes = initialization_method.initialize()\n",
    "next_locations = domain_2d[next_indexes]\n",
    "domain = instrument.xy_locations.to_numpy()\n",
    "# Get the indexes in the domain:\n",
    "indexes = np.arange(0, domain.shape[0])\n",
    "\n",
    "# Initialize containers for locations and measurements:\n",
    "locations = np.array([]).reshape(-1, domain_2d.shape[1])\n",
    "measurements = np.array([]).reshape(-1, instrument.sim_two_theta_space.shape[0])\n",
    "next_measurements = instrument.move_and_measure(domain_3d[next_indexes])\n",
    "\n",
    "locations = np.append(locations, next_locations, axis=0)\n",
    "measurements = np.append(measurements, next_measurements, axis=0)\n",
    "\n",
    "cluster_method = hermes.clustering.RBPots(\n",
    "    measurements=measurements,\n",
    "    measurements_distance_type=hermes.distance.CosineDistance(),\n",
    "    measurements_similarity_type=hermes.similarity.SquaredExponential(lengthscale=0.1),\n",
    "    locations=locations,\n",
    "    resolution=0.2,\n",
    ")\n",
    "# cluster_method.form_graph()\n",
    "cluster_method.cluster()\n",
    "cluster_method.get_local_membership_prob()\n",
    "\n",
    "# TODO use qm2 example\n",
    "\n",
    "classification_method = hermes.classification.HeteroscedasticGPC(\n",
    "    locations=locations,\n",
    "    labels=cluster_method.labels,\n",
    "    domain=domain,\n",
    "    probabilities=cluster_method.probabilities,\n",
    "    measured_indexes=indexes,\n",
    "    indexes=indexes,\n",
    ")"
   ]
  },
  {
   "cell_type": "code",
   "execution_count": 9,
   "metadata": {},
   "outputs": [
    {
     "data": {
      "text/plain": [
       "array([2, 1, 0, 2, 0, 0, 1, 0, 1, 0, 1])"
      ]
     },
     "execution_count": 9,
     "metadata": {},
     "output_type": "execute_result"
    }
   ],
   "source": [
    "cluster_method.labels"
   ]
  },
  {
   "cell_type": "code",
   "execution_count": 10,
   "metadata": {},
   "outputs": [],
   "source": [
    "classification_method.train()"
   ]
  },
  {
   "cell_type": "code",
   "execution_count": 11,
   "metadata": {},
   "outputs": [
    {
     "data": {
      "text/html": [
       "&lt;gpflow.models.vgp.VGP object at 0x7fd1fd948e50&gt;\n",
       "<table>\n",
       "<thead>\n",
       "<tr><th>name                          </th><th>class    </th><th>transform     </th><th>prior  </th><th>trainable  </th><th>shape      </th><th>dtype  </th><th>value                                   </th></tr>\n",
       "</thead>\n",
       "<tbody>\n",
       "<tr><td>VGP.kernel.variance           </td><td>Parameter</td><td>Softplus      </td><td>       </td><td>True       </td><td>()         </td><td>float64</td><td>0.0                                     </td></tr>\n",
       "<tr><td>VGP.kernel.lengthscales       </td><td>Parameter</td><td>Softplus      </td><td>       </td><td>True       </td><td>()         </td><td>float64</td><td>0.17908                                 </td></tr>\n",
       "<tr><td>VGP.likelihood.invlink.epsilon</td><td>Parameter</td><td>Sigmoid       </td><td>Beta   </td><td>False      </td><td>()         </td><td>float64</td><td>0.001                                   </td></tr>\n",
       "<tr><td>VGP.num_data                  </td><td>Parameter</td><td>Identity      </td><td>       </td><td>False      </td><td>()         </td><td>int32  </td><td>11                                      </td></tr>\n",
       "<tr><td>VGP.q_mu                      </td><td>Parameter</td><td>Identity      </td><td>       </td><td>True       </td><td>(11, 3)    </td><td>float64</td><td>[[-0.37781, -0.22536, 0.60355...        </td></tr>\n",
       "<tr><td>VGP.q_sqrt                    </td><td>Parameter</td><td>FillTriangular</td><td>       </td><td>True       </td><td>(3, 11, 11)</td><td>float64</td><td>[[[4.0220e-01, 0.0000e+00, 0.0000e+00...</td></tr>\n",
       "</tbody>\n",
       "</table>"
      ],
      "text/plain": [
       "<gpflow.models.vgp.VGP object at 0x7fd1fd948e50>\n",
       "╒════════════════════════════════╤═══════════╤════════════════╤═════════╤═════════════╤═════════════╤═════════╤══════════════════════════════════════════╕\n",
       "│ name                           │ class     │ transform      │ prior   │ trainable   │ shape       │ dtype   │ value                                    │\n",
       "╞════════════════════════════════╪═══════════╪════════════════╪═════════╪═════════════╪═════════════╪═════════╪══════════════════════════════════════════╡\n",
       "│ VGP.kernel.variance            │ Parameter │ Softplus       │         │ True        │ ()          │ float64 │ 0.0                                      │\n",
       "├────────────────────────────────┼───────────┼────────────────┼─────────┼─────────────┼─────────────┼─────────┼──────────────────────────────────────────┤\n",
       "│ VGP.kernel.lengthscales        │ Parameter │ Softplus       │         │ True        │ ()          │ float64 │ 0.17908                                  │\n",
       "├────────────────────────────────┼───────────┼────────────────┼─────────┼─────────────┼─────────────┼─────────┼──────────────────────────────────────────┤\n",
       "│ VGP.likelihood.invlink.epsilon │ Parameter │ Sigmoid        │ Beta    │ False       │ ()          │ float64 │ 0.001                                    │\n",
       "├────────────────────────────────┼───────────┼────────────────┼─────────┼─────────────┼─────────────┼─────────┼──────────────────────────────────────────┤\n",
       "│ VGP.num_data                   │ Parameter │ Identity       │         │ False       │ ()          │ int32   │ 11                                       │\n",
       "├────────────────────────────────┼───────────┼────────────────┼─────────┼─────────────┼─────────────┼─────────┼──────────────────────────────────────────┤\n",
       "│ VGP.q_mu                       │ Parameter │ Identity       │         │ True        │ (11, 3)     │ float64 │ [[-0.37781, -0.22536, 0.60355...         │\n",
       "├────────────────────────────────┼───────────┼────────────────┼─────────┼─────────────┼─────────────┼─────────┼──────────────────────────────────────────┤\n",
       "│ VGP.q_sqrt                     │ Parameter │ FillTriangular │         │ True        │ (3, 11, 11) │ float64 │ [[[4.0220e-01, 0.0000e+00, 0.0000e+00... │\n",
       "╘════════════════════════════════╧═══════════╧════════════════╧═════════╧═════════════╧═════════════╧═════════╧══════════════════════════════════════════╛"
      ]
     },
     "execution_count": 11,
     "metadata": {},
     "output_type": "execute_result"
    }
   ],
   "source": [
    "classification_method.model"
   ]
  },
  {
   "cell_type": "code",
   "execution_count": 12,
   "metadata": {},
   "outputs": [],
   "source": [
    "classification_method.predict()"
   ]
  },
  {
   "cell_type": "code",
   "execution_count": 13,
   "metadata": {},
   "outputs": [
    {
     "data": {
      "text/plain": [
       "TensorShape([177, 3])"
      ]
     },
     "execution_count": 13,
     "metadata": {},
     "output_type": "execute_result"
    }
   ],
   "source": [
    "classification_method.mean.shape"
   ]
  },
  {
   "cell_type": "code",
   "execution_count": 14,
   "metadata": {},
   "outputs": [
    {
     "data": {
      "text/plain": [
       "<bound method GPModel.predict_y of <gpflow.models.vgp.VGP object at 0x7fd1fd948e50>>"
      ]
     },
     "execution_count": 14,
     "metadata": {},
     "output_type": "execute_result"
    }
   ],
   "source": [
    "classification_method.model.predict_y"
   ]
  },
  {
   "cell_type": "code",
   "execution_count": 15,
   "metadata": {},
   "outputs": [],
   "source": [
    "import tensorflow as tf\n",
    "from typing import List, Optional, Tuple, Union, Callable"
   ]
  },
  {
   "cell_type": "code",
   "execution_count": 16,
   "metadata": {},
   "outputs": [
    {
     "data": {
      "text/plain": [
       "False"
      ]
     },
     "execution_count": 16,
     "metadata": {},
     "output_type": "execute_result"
    }
   ],
   "source": [
    "hasattr(classification_method.model, \"compiled_predict_f\")"
   ]
  },
  {
   "cell_type": "code",
   "execution_count": 17,
   "metadata": {},
   "outputs": [
    {
     "data": {
      "text/plain": [
       "(177, 2)"
      ]
     },
     "execution_count": 17,
     "metadata": {},
     "output_type": "execute_result"
    }
   ],
   "source": [
    "domain.shape"
   ]
  },
  {
   "cell_type": "code",
   "execution_count": 48,
   "metadata": {},
   "outputs": [],
   "source": [
    "from typing import Any"
   ]
  },
  {
   "cell_type": "code",
   "execution_count": 57,
   "metadata": {},
   "outputs": [],
   "source": [
    "# from https://gpflow.github.io/GPflow/2.9.0/notebooks/getting_started/saving_and_loading.html#TensorFlow-saved_model\n",
    "classification_method.model.compiled_predict_f = tf.function(\n",
    "    lambda Xnew: classification_method.model.predict_f(Xnew, full_cov=False),\n",
    "    input_signature=[tf.TensorSpec(shape=[None,domain.shape[1]], dtype=tf.float64)],\n",
    ")\n",
    "classification_method.model.compiled_predict_y = tf.function(\n",
    "    lambda Xnew: classification_method.model.predict_y(Xnew, full_cov=False),\n",
    "    input_signature=[tf.TensorSpec(shape=[None,domain.shape[1]], dtype=tf.float64)],\n",
    ")"
   ]
  },
  {
   "cell_type": "code",
   "execution_count": 58,
   "metadata": {},
   "outputs": [
    {
     "name": "stdout",
     "output_type": "stream",
     "text": [
      "INFO:tensorflow:Assets written to: saved_model_test_1/assets\n"
     ]
    },
    {
     "name": "stderr",
     "output_type": "stream",
     "text": [
      "INFO:tensorflow:Assets written to: saved_model_test_1/assets\n"
     ]
    }
   ],
   "source": [
    "tf.saved_model.save(classification_method.model, \"saved_model_test_1\")"
   ]
  },
  {
   "cell_type": "code",
   "execution_count": 59,
   "metadata": {},
   "outputs": [],
   "source": [
    "load_test = tf.saved_model.load(\"saved_model_test_1\")"
   ]
  },
  {
   "cell_type": "code",
   "execution_count": 55,
   "metadata": {},
   "outputs": [
    {
     "data": {
      "text/plain": [
       "<tensorflow.python.saved_model.function_deserialization.RestoredFunction at 0x7fd1fdb7e290>"
      ]
     },
     "execution_count": 55,
     "metadata": {},
     "output_type": "execute_result"
    }
   ],
   "source": [
    "load_test.compiled_predict_y"
   ]
  },
  {
   "cell_type": "code",
   "execution_count": 22,
   "metadata": {},
   "outputs": [
    {
     "data": {
      "text/plain": [
       "<bound method GPModel.predict_y of <gpflow.models.vgp.VGP object at 0x7fd1fd948e50>>"
      ]
     },
     "execution_count": 22,
     "metadata": {},
     "output_type": "execute_result"
    }
   ],
   "source": [
    "classification_method.model.predict_y"
   ]
  },
  {
   "cell_type": "code",
   "execution_count": 23,
   "metadata": {},
   "outputs": [],
   "source": [
    "mean1, var1 = classification_method.model.predict_y(domain)"
   ]
  },
  {
   "cell_type": "code",
   "execution_count": 24,
   "metadata": {},
   "outputs": [
    {
     "data": {
      "text/plain": [
       "<tf.Tensor: shape=(177, 3), dtype=float64, numpy=\n",
       "array([[0.33333301, 0.33333301, 0.33333301],\n",
       "       [0.33333301, 0.33333301, 0.33333301],\n",
       "       [0.33333301, 0.33333301, 0.33333301],\n",
       "       [0.33333301, 0.33333301, 0.33333301],\n",
       "       [0.33333301, 0.33333301, 0.33333301],\n",
       "       [0.33333301, 0.33333301, 0.33333301],\n",
       "       [0.33333301, 0.33333301, 0.33333301],\n",
       "       [0.33333301, 0.33333301, 0.33333301],\n",
       "       [0.33333301, 0.33333301, 0.33333301],\n",
       "       [0.33333301, 0.33333301, 0.33333301],\n",
       "       [0.33333301, 0.33333301, 0.33333301],\n",
       "       [0.33333301, 0.33333301, 0.33333301],\n",
       "       [0.33333301, 0.33333301, 0.33333301],\n",
       "       [0.33333301, 0.33333301, 0.33333301],\n",
       "       [0.33333301, 0.33333301, 0.33333301],\n",
       "       [0.33333301, 0.33333301, 0.33333301],\n",
       "       [0.33333301, 0.33333301, 0.33333301],\n",
       "       [0.33333301, 0.33333301, 0.33333301],\n",
       "       [0.33333301, 0.33333301, 0.33333301],\n",
       "       [0.33333301, 0.33333301, 0.33333301],\n",
       "       [0.33333301, 0.33333301, 0.33333301],\n",
       "       [0.33333301, 0.33333301, 0.33333301],\n",
       "       [0.33333301, 0.33333301, 0.33333301],\n",
       "       [0.33333301, 0.33333301, 0.33333301],\n",
       "       [0.33333301, 0.33333301, 0.33333301],\n",
       "       [0.33333301, 0.33333301, 0.33333301],\n",
       "       [0.33333301, 0.33333301, 0.33333301],\n",
       "       [0.33333301, 0.33333301, 0.33333301],\n",
       "       [0.33333301, 0.33333301, 0.33333301],\n",
       "       [0.33333301, 0.33333301, 0.33333301],\n",
       "       [0.33333301, 0.33333301, 0.33333301],\n",
       "       [0.33333301, 0.33333301, 0.33333301],\n",
       "       [0.33333301, 0.33333301, 0.33333301],\n",
       "       [0.33333301, 0.33333301, 0.33333301],\n",
       "       [0.33333301, 0.33333301, 0.33333301],\n",
       "       [0.33333301, 0.33333301, 0.33333301],\n",
       "       [0.33333301, 0.33333301, 0.33333301],\n",
       "       [0.33333301, 0.33333301, 0.33333301],\n",
       "       [0.33333301, 0.33333301, 0.33333301],\n",
       "       [0.33333301, 0.33333301, 0.33333301],\n",
       "       [0.33333301, 0.33333301, 0.33333301],\n",
       "       [0.33333301, 0.33333301, 0.33333301],\n",
       "       [0.33333301, 0.33333301, 0.33333301],\n",
       "       [0.33333301, 0.33333301, 0.33333301],\n",
       "       [0.33333301, 0.33333301, 0.33333301],\n",
       "       [0.33333301, 0.33333301, 0.33333301],\n",
       "       [0.33333301, 0.33333301, 0.33333301],\n",
       "       [0.33333301, 0.33333301, 0.33333301],\n",
       "       [0.33333301, 0.33333301, 0.33333301],\n",
       "       [0.33333301, 0.33333301, 0.33333301],\n",
       "       [0.33333301, 0.33333301, 0.33333301],\n",
       "       [0.33333301, 0.33333301, 0.33333301],\n",
       "       [0.33333301, 0.33333301, 0.33333301],\n",
       "       [0.33333301, 0.33333301, 0.33333301],\n",
       "       [0.33333301, 0.33333301, 0.33333301],\n",
       "       [0.33333301, 0.33333301, 0.33333301],\n",
       "       [0.33333301, 0.33333301, 0.33333301],\n",
       "       [0.33333301, 0.33333301, 0.33333301],\n",
       "       [0.33333301, 0.33333301, 0.33333301],\n",
       "       [0.33333301, 0.33333301, 0.33333301],\n",
       "       [0.33333301, 0.33333301, 0.33333301],\n",
       "       [0.33333301, 0.33333301, 0.33333301],\n",
       "       [0.33333301, 0.33333301, 0.33333301],\n",
       "       [0.33333301, 0.33333301, 0.33333301],\n",
       "       [0.33333301, 0.33333301, 0.33333301],\n",
       "       [0.33333301, 0.33333301, 0.33333301],\n",
       "       [0.33333301, 0.33333301, 0.33333301],\n",
       "       [0.33333301, 0.33333301, 0.33333301],\n",
       "       [0.33333301, 0.33333301, 0.33333301],\n",
       "       [0.33333301, 0.33333301, 0.33333301],\n",
       "       [0.33333301, 0.33333301, 0.33333301],\n",
       "       [0.33333301, 0.33333301, 0.33333301],\n",
       "       [0.33333301, 0.33333301, 0.33333301],\n",
       "       [0.33333301, 0.33333301, 0.33333301],\n",
       "       [0.33333301, 0.33333301, 0.33333301],\n",
       "       [0.33333301, 0.33333301, 0.33333301],\n",
       "       [0.33333301, 0.33333301, 0.33333301],\n",
       "       [0.33333301, 0.33333301, 0.33333301],\n",
       "       [0.33333301, 0.33333301, 0.33333301],\n",
       "       [0.33333301, 0.33333301, 0.33333301],\n",
       "       [0.33333301, 0.33333301, 0.33333301],\n",
       "       [0.33333301, 0.33333301, 0.33333301],\n",
       "       [0.33333301, 0.33333301, 0.33333301],\n",
       "       [0.33333301, 0.33333301, 0.33333301],\n",
       "       [0.33333301, 0.33333301, 0.33333301],\n",
       "       [0.33333301, 0.33333301, 0.33333301],\n",
       "       [0.33333301, 0.33333301, 0.33333301],\n",
       "       [0.33333301, 0.33333301, 0.33333301],\n",
       "       [0.33344146, 0.33327495, 0.33328263],\n",
       "       [0.33333301, 0.33333301, 0.33333301],\n",
       "       [0.33333301, 0.33333301, 0.33333301],\n",
       "       [0.33333301, 0.33333301, 0.33333301],\n",
       "       [0.33333301, 0.33333301, 0.33333301],\n",
       "       [0.33333301, 0.33333301, 0.33333301],\n",
       "       [0.33333301, 0.33333301, 0.33333301],\n",
       "       [0.33333301, 0.33333301, 0.33333301],\n",
       "       [0.33333301, 0.33333301, 0.33333301],\n",
       "       [0.33333301, 0.33333301, 0.33333301],\n",
       "       [0.33333301, 0.33333301, 0.33333301],\n",
       "       [0.33333301, 0.33333301, 0.33333301],\n",
       "       [0.33333301, 0.33333301, 0.33333301],\n",
       "       [0.33333301, 0.33333301, 0.33333301],\n",
       "       [0.33333301, 0.33333301, 0.33333301],\n",
       "       [0.33333301, 0.33333301, 0.33333301],\n",
       "       [0.33333301, 0.33333301, 0.33333301],\n",
       "       [0.33333301, 0.33333301, 0.33333301],\n",
       "       [0.33333301, 0.33333301, 0.33333301],\n",
       "       [0.33333301, 0.33333301, 0.33333301],\n",
       "       [0.33333301, 0.33333301, 0.33333301],\n",
       "       [0.33333301, 0.33333301, 0.33333301],\n",
       "       [0.33333301, 0.33333301, 0.33333301],\n",
       "       [0.33333301, 0.33333301, 0.33333301],\n",
       "       [0.33333301, 0.33333301, 0.33333301],\n",
       "       [0.33333301, 0.33333301, 0.33333301],\n",
       "       [0.33333301, 0.33333301, 0.33333301],\n",
       "       [0.33333301, 0.33333301, 0.33333301],\n",
       "       [0.33333301, 0.33333301, 0.33333301],\n",
       "       [0.33333301, 0.33333301, 0.33333301],\n",
       "       [0.33333301, 0.33333301, 0.33333301],\n",
       "       [0.33333301, 0.33333301, 0.33333301],\n",
       "       [0.33333301, 0.33333301, 0.33333301],\n",
       "       [0.33333301, 0.33333301, 0.33333301],\n",
       "       [0.33333301, 0.33333301, 0.33333301],\n",
       "       [0.33333301, 0.33333301, 0.33333301],\n",
       "       [0.33333301, 0.33333301, 0.33333301],\n",
       "       [0.33333301, 0.33333301, 0.33333301],\n",
       "       [0.33333301, 0.33333301, 0.33333301],\n",
       "       [0.33333301, 0.33333301, 0.33333301],\n",
       "       [0.33333301, 0.33333301, 0.33333301],\n",
       "       [0.33333301, 0.33333301, 0.33333301],\n",
       "       [0.33333301, 0.33333301, 0.33333301],\n",
       "       [0.33333301, 0.33333301, 0.33333301],\n",
       "       [0.33333301, 0.33333301, 0.33333301],\n",
       "       [0.33333301, 0.33333301, 0.33333301],\n",
       "       [0.33333301, 0.33333301, 0.33333301],\n",
       "       [0.33333301, 0.33333301, 0.33333301],\n",
       "       [0.33333301, 0.33333301, 0.33333301],\n",
       "       [0.33333301, 0.33333301, 0.33333301],\n",
       "       [0.33333301, 0.33333301, 0.33333301],\n",
       "       [0.33333301, 0.33333301, 0.33333301],\n",
       "       [0.33333301, 0.33333301, 0.33333301],\n",
       "       [0.33333301, 0.33333301, 0.33333301],\n",
       "       [0.33333301, 0.33333301, 0.33333301],\n",
       "       [0.33333301, 0.33333301, 0.33333301],\n",
       "       [0.33333301, 0.33333301, 0.33333301],\n",
       "       [0.33333301, 0.33333301, 0.33333301],\n",
       "       [0.33333301, 0.33333301, 0.33333301],\n",
       "       [0.33333301, 0.33333301, 0.33333301],\n",
       "       [0.33333301, 0.33333301, 0.33333301],\n",
       "       [0.33333301, 0.33333301, 0.33333301],\n",
       "       [0.33333301, 0.33333301, 0.33333301],\n",
       "       [0.33333301, 0.33333301, 0.33333301],\n",
       "       [0.33333301, 0.33333301, 0.33333301],\n",
       "       [0.33333301, 0.33333301, 0.33333301],\n",
       "       [0.33333301, 0.33333301, 0.33333301],\n",
       "       [0.33333301, 0.33333301, 0.33333301],\n",
       "       [0.33333301, 0.33333301, 0.33333301],\n",
       "       [0.33333301, 0.33333301, 0.33333301],\n",
       "       [0.33333301, 0.33333301, 0.33333301],\n",
       "       [0.33333301, 0.33333301, 0.33333301],\n",
       "       [0.33333301, 0.33333301, 0.33333301],\n",
       "       [0.33333301, 0.33333301, 0.33333301],\n",
       "       [0.33333301, 0.33333301, 0.33333301],\n",
       "       [0.33333301, 0.33333301, 0.33333301],\n",
       "       [0.33333301, 0.33333301, 0.33333301],\n",
       "       [0.33333301, 0.33333301, 0.33333301],\n",
       "       [0.33333301, 0.33333301, 0.33333301],\n",
       "       [0.33333301, 0.33333301, 0.33333301],\n",
       "       [0.33333301, 0.33333301, 0.33333301],\n",
       "       [0.33333301, 0.33333301, 0.33333301],\n",
       "       [0.33333301, 0.33333301, 0.33333301],\n",
       "       [0.33333301, 0.33333301, 0.33333301],\n",
       "       [0.33333301, 0.33333301, 0.33333301],\n",
       "       [0.33333301, 0.33333301, 0.33333301],\n",
       "       [0.33333301, 0.33333301, 0.33333301],\n",
       "       [0.33333301, 0.33333301, 0.33333301],\n",
       "       [0.33333301, 0.33333301, 0.33333301]])>"
      ]
     },
     "execution_count": 24,
     "metadata": {},
     "output_type": "execute_result"
    }
   ],
   "source": [
    "mean1"
   ]
  },
  {
   "cell_type": "code",
   "execution_count": 42,
   "metadata": {},
   "outputs": [],
   "source": [
    "from matplotlib import pyplot as plt"
   ]
  },
  {
   "cell_type": "code",
   "execution_count": 44,
   "metadata": {},
   "outputs": [
    {
     "data": {
      "text/plain": [
       "<matplotlib.collections.PathCollection at 0x7f34193557b0>"
      ]
     },
     "execution_count": 44,
     "metadata": {},
     "output_type": "execute_result"
    },
    {
     "data": {
      "image/png": "[encoded data removed]",
      "text/plain": [
       "<Figure size 640x480 with 1 Axes>"
      ]
     },
     "metadata": {},
     "output_type": "display_data"
    }
   ],
   "source": [
    "plt.scatter(domain[:,0], domain[:,1])"
   ]
  },
  {
   "cell_type": "code",
   "execution_count": 46,
   "metadata": {},
   "outputs": [],
   "source": [
    "classification_method.predict()"
   ]
  },
  {
   "cell_type": "code",
   "execution_count": 45,
   "metadata": {},
   "outputs": [
    {
     "data": {
      "text/html": [
       "&lt;gpflow.models.vgp.VGP object at 0x7f34308a2d70&gt;\n",
       "<table>\n",
       "<thead>\n",
       "<tr><th>name                          </th><th>class    </th><th>transform     </th><th>prior  </th><th>trainable  </th><th>shape      </th><th>dtype  </th><th>value                                   </th></tr>\n",
       "</thead>\n",
       "<tbody>\n",
       "<tr><td>VGP.kernel.variance           </td><td>Parameter</td><td>Softplus      </td><td>       </td><td>True       </td><td>()         </td><td>float64</td><td>119.8443                                </td></tr>\n",
       "<tr><td>VGP.kernel.lengthscales       </td><td>Parameter</td><td>Softplus      </td><td>       </td><td>True       </td><td>()         </td><td>float64</td><td>0.17202                                 </td></tr>\n",
       "<tr><td>VGP.likelihood.invlink.epsilon</td><td>Parameter</td><td>Sigmoid       </td><td>Beta   </td><td>False      </td><td>()         </td><td>float64</td><td>0.001                                   </td></tr>\n",
       "<tr><td>VGP.num_data                  </td><td>Parameter</td><td>Identity      </td><td>       </td><td>False      </td><td>()         </td><td>int32  </td><td>11                                      </td></tr>\n",
       "<tr><td>VGP.q_mu                      </td><td>Parameter</td><td>Identity      </td><td>       </td><td>True       </td><td>(11, 3)    </td><td>float64</td><td>[[0.13433, 0.50222, -0.63631...         </td></tr>\n",
       "<tr><td>VGP.q_sqrt                    </td><td>Parameter</td><td>FillTriangular</td><td>       </td><td>True       </td><td>(3, 11, 11)</td><td>float64</td><td>[[[1.5559e-01, 0.0000e+00, 0.0000e+00...</td></tr>\n",
       "</tbody>\n",
       "</table>"
      ],
      "text/plain": [
       "<gpflow.models.vgp.VGP object at 0x7f34308a2d70>\n",
       "╒════════════════════════════════╤═══════════╤════════════════╤═════════╤═════════════╤═════════════╤═════════╤══════════════════════════════════════════╕\n",
       "│ name                           │ class     │ transform      │ prior   │ trainable   │ shape       │ dtype   │ value                                    │\n",
       "╞════════════════════════════════╪═══════════╪════════════════╪═════════╪═════════════╪═════════════╪═════════╪══════════════════════════════════════════╡\n",
       "│ VGP.kernel.variance            │ Parameter │ Softplus       │         │ True        │ ()          │ float64 │ 119.8443                                 │\n",
       "├────────────────────────────────┼───────────┼────────────────┼─────────┼─────────────┼─────────────┼─────────┼──────────────────────────────────────────┤\n",
       "│ VGP.kernel.lengthscales        │ Parameter │ Softplus       │         │ True        │ ()          │ float64 │ 0.17202                                  │\n",
       "├────────────────────────────────┼───────────┼────────────────┼─────────┼─────────────┼─────────────┼─────────┼──────────────────────────────────────────┤\n",
       "│ VGP.likelihood.invlink.epsilon │ Parameter │ Sigmoid        │ Beta    │ False       │ ()          │ float64 │ 0.001                                    │\n",
       "├────────────────────────────────┼───────────┼────────────────┼─────────┼─────────────┼─────────────┼─────────┼──────────────────────────────────────────┤\n",
       "│ VGP.num_data                   │ Parameter │ Identity       │         │ False       │ ()          │ int32   │ 11                                       │\n",
       "├────────────────────────────────┼───────────┼────────────────┼─────────┼─────────────┼─────────────┼─────────┼──────────────────────────────────────────┤\n",
       "│ VGP.q_mu                       │ Parameter │ Identity       │         │ True        │ (11, 3)     │ float64 │ [[0.13433, 0.50222, -0.63631...          │\n",
       "├────────────────────────────────┼───────────┼────────────────┼─────────┼─────────────┼─────────────┼─────────┼──────────────────────────────────────────┤\n",
       "│ VGP.q_sqrt                     │ Parameter │ FillTriangular │         │ True        │ (3, 11, 11) │ float64 │ [[[1.5559e-01, 0.0000e+00, 0.0000e+00... │\n",
       "╘════════════════════════════════╧═══════════╧════════════════╧═════════╧═════════════╧═════════════╧═════════╧══════════════════════════════════════════╛"
      ]
     },
     "execution_count": 45,
     "metadata": {},
     "output_type": "execute_result"
    }
   ],
   "source": [
    "classification_method.model"
   ]
  },
  {
   "cell_type": "code",
   "execution_count": 46,
   "metadata": {},
   "outputs": [],
   "source": [
    "mean1, var1 = classification_method.model.predict_y(s)"
   ]
  },
  {
   "cell_type": "code",
   "execution_count": 47,
   "metadata": {},
   "outputs": [
    {
     "data": {
      "text/plain": [
       "<tf.Tensor: shape=(177, 3), dtype=float64, numpy=\n",
       "array([[0.33333301, 0.33333301, 0.33333301],\n",
       "       [0.33333301, 0.33333301, 0.33333301],\n",
       "       [0.33333301, 0.33333301, 0.33333301],\n",
       "       [0.33333301, 0.33333301, 0.33333301],\n",
       "       [0.33333301, 0.33333301, 0.33333301],\n",
       "       [       nan,        nan,        nan],\n",
       "       [       nan,        nan,        nan],\n",
       "       [       nan,        nan,        nan],\n",
       "       [       nan,        nan,        nan],\n",
       "       [       nan,        nan,        nan],\n",
       "       [       nan,        nan,        nan],\n",
       "       [       nan,        nan,        nan],\n",
       "       [       nan,        nan,        nan],\n",
       "       [       nan,        nan,        nan],\n",
       "       [       nan,        nan,        nan],\n",
       "       [       nan,        nan,        nan],\n",
       "       [       nan,        nan,        nan],\n",
       "       [       nan,        nan,        nan],\n",
       "       [       nan,        nan,        nan],\n",
       "       [       nan,        nan,        nan],\n",
       "       [       nan,        nan,        nan],\n",
       "       [       nan,        nan,        nan],\n",
       "       [       nan,        nan,        nan],\n",
       "       [       nan,        nan,        nan],\n",
       "       [       nan,        nan,        nan],\n",
       "       [       nan,        nan,        nan],\n",
       "       [       nan,        nan,        nan],\n",
       "       [       nan,        nan,        nan],\n",
       "       [       nan,        nan,        nan],\n",
       "       [       nan,        nan,        nan],\n",
       "       [       nan,        nan,        nan],\n",
       "       [       nan,        nan,        nan],\n",
       "       [       nan,        nan,        nan],\n",
       "       [       nan,        nan,        nan],\n",
       "       [       nan,        nan,        nan],\n",
       "       [       nan,        nan,        nan],\n",
       "       [       nan,        nan,        nan],\n",
       "       [       nan,        nan,        nan],\n",
       "       [       nan,        nan,        nan],\n",
       "       [       nan,        nan,        nan],\n",
       "       [       nan,        nan,        nan],\n",
       "       [       nan,        nan,        nan],\n",
       "       [       nan,        nan,        nan],\n",
       "       [       nan,        nan,        nan],\n",
       "       [       nan,        nan,        nan],\n",
       "       [       nan,        nan,        nan],\n",
       "       [       nan,        nan,        nan],\n",
       "       [       nan,        nan,        nan],\n",
       "       [       nan,        nan,        nan],\n",
       "       [       nan,        nan,        nan],\n",
       "       [       nan,        nan,        nan],\n",
       "       [       nan,        nan,        nan],\n",
       "       [       nan,        nan,        nan],\n",
       "       [       nan,        nan,        nan],\n",
       "       [       nan,        nan,        nan],\n",
       "       [       nan,        nan,        nan],\n",
       "       [       nan,        nan,        nan],\n",
       "       [       nan,        nan,        nan],\n",
       "       [       nan,        nan,        nan],\n",
       "       [       nan,        nan,        nan],\n",
       "       [       nan,        nan,        nan],\n",
       "       [       nan,        nan,        nan],\n",
       "       [       nan,        nan,        nan],\n",
       "       [       nan,        nan,        nan],\n",
       "       [       nan,        nan,        nan],\n",
       "       [       nan,        nan,        nan],\n",
       "       [       nan,        nan,        nan],\n",
       "       [       nan,        nan,        nan],\n",
       "       [       nan,        nan,        nan],\n",
       "       [       nan,        nan,        nan],\n",
       "       [       nan,        nan,        nan],\n",
       "       [       nan,        nan,        nan],\n",
       "       [       nan,        nan,        nan],\n",
       "       [       nan,        nan,        nan],\n",
       "       [       nan,        nan,        nan],\n",
       "       [       nan,        nan,        nan],\n",
       "       [       nan,        nan,        nan],\n",
       "       [       nan,        nan,        nan],\n",
       "       [       nan,        nan,        nan],\n",
       "       [       nan,        nan,        nan],\n",
       "       [       nan,        nan,        nan],\n",
       "       [       nan,        nan,        nan],\n",
       "       [       nan,        nan,        nan],\n",
       "       [       nan,        nan,        nan],\n",
       "       [       nan,        nan,        nan],\n",
       "       [       nan,        nan,        nan],\n",
       "       [       nan,        nan,        nan],\n",
       "       [       nan,        nan,        nan],\n",
       "       [       nan,        nan,        nan],\n",
       "       [       nan,        nan,        nan],\n",
       "       [       nan,        nan,        nan],\n",
       "       [       nan,        nan,        nan],\n",
       "       [       nan,        nan,        nan],\n",
       "       [       nan,        nan,        nan],\n",
       "       [       nan,        nan,        nan],\n",
       "       [       nan,        nan,        nan],\n",
       "       [       nan,        nan,        nan],\n",
       "       [       nan,        nan,        nan],\n",
       "       [       nan,        nan,        nan],\n",
       "       [       nan,        nan,        nan],\n",
       "       [       nan,        nan,        nan],\n",
       "       [       nan,        nan,        nan],\n",
       "       [       nan,        nan,        nan],\n",
       "       [       nan,        nan,        nan],\n",
       "       [       nan,        nan,        nan],\n",
       "       [       nan,        nan,        nan],\n",
       "       [       nan,        nan,        nan],\n",
       "       [       nan,        nan,        nan],\n",
       "       [       nan,        nan,        nan],\n",
       "       [       nan,        nan,        nan],\n",
       "       [       nan,        nan,        nan],\n",
       "       [       nan,        nan,        nan],\n",
       "       [       nan,        nan,        nan],\n",
       "       [       nan,        nan,        nan],\n",
       "       [       nan,        nan,        nan],\n",
       "       [       nan,        nan,        nan],\n",
       "       [       nan,        nan,        nan],\n",
       "       [       nan,        nan,        nan],\n",
       "       [       nan,        nan,        nan],\n",
       "       [       nan,        nan,        nan],\n",
       "       [       nan,        nan,        nan],\n",
       "       [       nan,        nan,        nan],\n",
       "       [       nan,        nan,        nan],\n",
       "       [       nan,        nan,        nan],\n",
       "       [       nan,        nan,        nan],\n",
       "       [       nan,        nan,        nan],\n",
       "       [       nan,        nan,        nan],\n",
       "       [       nan,        nan,        nan],\n",
       "       [       nan,        nan,        nan],\n",
       "       [       nan,        nan,        nan],\n",
       "       [       nan,        nan,        nan],\n",
       "       [       nan,        nan,        nan],\n",
       "       [       nan,        nan,        nan],\n",
       "       [       nan,        nan,        nan],\n",
       "       [       nan,        nan,        nan],\n",
       "       [       nan,        nan,        nan],\n",
       "       [       nan,        nan,        nan],\n",
       "       [       nan,        nan,        nan],\n",
       "       [       nan,        nan,        nan],\n",
       "       [       nan,        nan,        nan],\n",
       "       [       nan,        nan,        nan],\n",
       "       [       nan,        nan,        nan],\n",
       "       [       nan,        nan,        nan],\n",
       "       [       nan,        nan,        nan],\n",
       "       [       nan,        nan,        nan],\n",
       "       [       nan,        nan,        nan],\n",
       "       [       nan,        nan,        nan],\n",
       "       [       nan,        nan,        nan],\n",
       "       [       nan,        nan,        nan],\n",
       "       [       nan,        nan,        nan],\n",
       "       [       nan,        nan,        nan],\n",
       "       [       nan,        nan,        nan],\n",
       "       [       nan,        nan,        nan],\n",
       "       [       nan,        nan,        nan],\n",
       "       [       nan,        nan,        nan],\n",
       "       [       nan,        nan,        nan],\n",
       "       [       nan,        nan,        nan],\n",
       "       [       nan,        nan,        nan],\n",
       "       [       nan,        nan,        nan],\n",
       "       [       nan,        nan,        nan],\n",
       "       [       nan,        nan,        nan],\n",
       "       [       nan,        nan,        nan],\n",
       "       [       nan,        nan,        nan],\n",
       "       [       nan,        nan,        nan],\n",
       "       [       nan,        nan,        nan],\n",
       "       [       nan,        nan,        nan],\n",
       "       [       nan,        nan,        nan],\n",
       "       [       nan,        nan,        nan],\n",
       "       [       nan,        nan,        nan],\n",
       "       [       nan,        nan,        nan],\n",
       "       [       nan,        nan,        nan],\n",
       "       [       nan,        nan,        nan],\n",
       "       [       nan,        nan,        nan],\n",
       "       [       nan,        nan,        nan],\n",
       "       [       nan,        nan,        nan],\n",
       "       [       nan,        nan,        nan],\n",
       "       [       nan,        nan,        nan]])>"
      ]
     },
     "execution_count": 47,
     "metadata": {},
     "output_type": "execute_result"
    }
   ],
   "source": [
    "mean1"
   ]
  },
  {
   "cell_type": "code",
   "execution_count": 42,
   "metadata": {},
   "outputs": [],
   "source": [
    "c = np.zeros((172,2))*np.NaN\n",
    "n = domain[0:5,:]\n",
    "s = np.concatenate((n,c), axis=0)"
   ]
  },
  {
   "cell_type": "code",
   "execution_count": 60,
   "metadata": {},
   "outputs": [],
   "source": [
    "mean2, var2 = load_test.compiled_predict_y(n)"
   ]
  },
  {
   "cell_type": "code",
   "execution_count": 64,
   "metadata": {},
   "outputs": [
    {
     "data": {
      "text/plain": [
       "<tensorflow.python.saved_model.load.Loader._recreate_base_user_object.<locals>._UserObject at 0x7fd1f5e83460>"
      ]
     },
     "execution_count": 64,
     "metadata": {},
     "output_type": "execute_result"
    }
   ],
   "source": [
    "load_test.kernel"
   ]
  },
  {
   "cell_type": "code",
   "execution_count": 36,
   "metadata": {},
   "outputs": [
    {
     "data": {
      "text/plain": [
       "531"
      ]
     },
     "execution_count": 36,
     "metadata": {},
     "output_type": "execute_result"
    }
   ],
   "source": [
    "np.sum(mean1 != mean2)"
   ]
  },
  {
   "cell_type": "code",
   "execution_count": 37,
   "metadata": {},
   "outputs": [
    {
     "data": {
      "text/plain": [
       "0"
      ]
     },
     "execution_count": 37,
     "metadata": {},
     "output_type": "execute_result"
    }
   ],
   "source": [
    "np.sum(mean1 == mean2)"
   ]
  },
  {
   "cell_type": "code",
   "execution_count": null,
   "metadata": {},
   "outputs": [],
   "source": []
  }
 ],
 "metadata": {
  "kernelspec": {
   "display_name": "hermes",
   "language": "python",
   "name": "python3"
  },
  "language_info": {
   "codemirror_mode": {
    "name": "ipython",
    "version": 3
   },
   "file_extension": ".py",
   "mimetype": "text/x-python",
   "name": "python",
   "nbconvert_exporter": "python",
   "pygments_lexer": "ipython3",
   "version": "3.10.13"
  }
 },
 "nbformat": 4,
 "nbformat_minor": 2
}
