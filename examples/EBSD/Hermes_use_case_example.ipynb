{
 "cells": [
  {
   "cell_type": "code",
   "execution_count": null,
   "id": "68c2f1f0",
   "metadata": {},
   "outputs": [],
   "source": [
    "import hermes\n",
    "from hermes.instruments.EBSD.some_manufacturer import some_instrument\n",
    "from hermes.pre_proccessing.EBSD import read_ang_files\n",
    "###########\n",
    "#Example: Active learning for phase mapping, grain mapping, etc.\n",
    "###########\n",
    "#####\n",
    "#specific example EBSD for 3D grain mapping\n",
    "#####\n",
    "#Define a way to to communicate with instrument\n",
    "path = \"C://some_path\"\n",
    "some_instrument.set_directory(path)\n",
    "possible_locations = something???\n",
    "\n",
    "def change_z(depth):\n",
    "    hermes.instruments.EBSD.mill(depth)\n",
    "\n",
    "def move_and_measure(locations, count_time= 5):\n",
    "    #count_time in seconds\n",
    "    some_instrument.move(locations)\n",
    "    \n",
    "    some_instrument.measure(count_time)\n",
    "    #^maybe .load_ang() should be a part of .measure()\n",
    "    some_instrument.verify_locations()\n",
    "    \n",
    "    #Preprocess data\n",
    "    real_locations, measurments = some_instrument.load_ang(path)\n",
    "    \n",
    "    return real_locations, measurements\n",
    "    \n",
    "\n",
    "\n",
    "#Define active learning loop:\n",
    "active_learning_loops = 10\n",
    "#initialize the starting locations\n",
    "locations = some_instrument.initial_locations(method = \"random\")\n",
    "possible_locations = some_instrument.set_range()\n",
    "\n",
    "for i in active_learning_loops:\n",
    "    #Measure\n",
    "    un_measured_locations = np.setdiff1d(locations, possible_locations) # Find the locations that haven't been measured. \n",
    "    #^needs some sort of tolerance \n",
    "    new_locations, new_measurements = move_and_measure(un_measured_locations) \n",
    "    locations = np.concatenate((locations, new_locations), axis=0)\n",
    "    measurements = np.concatenate((measurements, new_measurements), axis=0)\n",
    "    \n",
    "    \n",
    "    #Clustering\n",
    "    clusters, cluster_uncertainties = hermes.ida.cluster.ContigousCommunityDiscovery.rb_pots(locations, measurements)\n",
    "\n",
    "\n",
    "    #Train-Predict-Acquire\n",
    "    model = some_model.train(locations, clusters, cluster_uncertainties)\n",
    "    predictions, prediction_uncertainties = model.predict(possible_locations)\n",
    "    \n",
    "    next_locations = some_acquistion_method(predictions, prediction_uncertainties)\n",
    "    \n",
    "    #Archive data\n",
    "    some_archive_method(i,\n",
    "                        locations, measurements, \n",
    "                        clusters, cluster_uncertainties,\n",
    "                        model, \n",
    "                        predictions, prediction_uncertainties\n",
    "                        next_locations)\n",
    "    \n",
    "    #Add next location to the list of locations to measure\n",
    "    locations = np.concatenate((locations, next_locations), axis = 0)"
   ]
  }
 ],
 "metadata": {
  "kernelspec": {
   "display_name": "Python 3",
   "language": "python",
   "name": "python3"
  },
  "language_info": {
   "codemirror_mode": {
    "name": "ipython",
    "version": 3
   },
   "file_extension": ".py",
   "mimetype": "text/x-python",
   "name": "python",
   "nbconvert_exporter": "python",
   "pygments_lexer": "ipython3",
   "version": "3.9.2"
  },
  "varInspector": {
   "cols": {
    "lenName": 16,
    "lenType": 16,
    "lenVar": 40
   },
   "kernels_config": {
    "python": {
     "delete_cmd_postfix": "",
     "delete_cmd_prefix": "del ",
     "library": "var_list.py",
     "varRefreshCmd": "print(var_dic_list())"
    },
    "r": {
     "delete_cmd_postfix": ") ",
     "delete_cmd_prefix": "rm(",
     "library": "var_list.r",
     "varRefreshCmd": "cat(var_dic_list()) "
    }
   },
   "types_to_exclude": [
    "module",
    "function",
    "builtin_function_or_method",
    "instance",
    "_Feature"
   ],
   "window_display": false
  }
 },
 "nbformat": 4,
 "nbformat_minor": 5
}
